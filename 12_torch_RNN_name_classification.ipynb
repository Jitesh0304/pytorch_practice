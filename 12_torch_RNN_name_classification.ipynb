{
 "cells": [
  {
   "cell_type": "code",
   "execution_count": 1,
   "metadata": {},
   "outputs": [],
   "source": [
    "import io\n",
    "import os\n",
    "import unicodedata\n",
    "import string\n",
    "import glob\n",
    "\n",
    "import torch\n",
    "import random"
   ]
  },
  {
   "cell_type": "markdown",
   "metadata": {},
   "source": [
    "https://pytorch.org/tutorials/intermediate/char_rnn_classification_tutorial.html"
   ]
  },
  {
   "cell_type": "code",
   "execution_count": 2,
   "metadata": {},
   "outputs": [],
   "source": [
    "device = torch.device('cuda' if torch.cuda.is_available() else 'cpu')"
   ]
  },
  {
   "cell_type": "code",
   "execution_count": 3,
   "metadata": {},
   "outputs": [
    {
     "name": "stdout",
     "output_type": "stream",
     "text": [
      "all letters =>  abcdefghijklmnopqrstuvwxyzABCDEFGHIJKLMNOPQRSTUVWXYZ .,;'\n",
      "total number of letters =>  57\n"
     ]
    }
   ],
   "source": [
    "### alphabet small + capital letters + \" .,;'\"\n",
    "ALL_LETTERS = string.ascii_letters + \" .,;'\"\n",
    "N_LETTERS = len(ALL_LETTERS)\n",
    "print(\"all letters => \", ALL_LETTERS)\n",
    "print(\"total number of letters => \", N_LETTERS)"
   ]
  },
  {
   "cell_type": "code",
   "execution_count": 4,
   "metadata": {},
   "outputs": [],
   "source": [
    "### Turn a Unicode string to plain ASCII  ...  this function will return only ascii characters ... it will remove all special characters\n",
    "def unicode_to_ascii(s):\n",
    "    return ''.join(\n",
    "        c for c in unicodedata.normalize('NFD', s)\n",
    "        if unicodedata.category(c) != 'Mn'\n",
    "        and c in ALL_LETTERS\n",
    "    )\n",
    "\n",
    "# print(\"Original letters => \", \"üåêîõ\")\n",
    "# print(\"After cleaning => \", unicode_to_ascii(\"üåêîõ\"))"
   ]
  },
  {
   "cell_type": "code",
   "execution_count": 5,
   "metadata": {},
   "outputs": [],
   "source": [
    "def load_data():\n",
    "    ## Build the category_lines dictionary, a list of names per language\n",
    "    category_lines = {}\n",
    "    all_categories = []\n",
    "    \n",
    "    def find_files(path):\n",
    "        ### The glob module, which is short for global, is a function that's used to search for files that match a specific file pattern or name.\n",
    "        return glob.glob(path)\n",
    "    \n",
    "    ## Read a file and split into lines\n",
    "    def read_lines(filename):\n",
    "        lines = io.open(filename, encoding='utf-8').read().strip().split('\\n')\n",
    "        return [unicode_to_ascii(line) for line in lines]\n",
    "    \n",
    "    ## iterate through all file present in the directory\n",
    "    for filename in find_files('data/names/*.txt'):\n",
    "        ## take only name of the file name without file extention\n",
    "        category = os.path.splitext(os.path.basename(filename))[0]\n",
    "        all_categories.append(category)\n",
    "        \n",
    "        lines = read_lines(filename)\n",
    "        ## dictionary store all lines of the file\n",
    "        category_lines[category] = lines\n",
    "    return category_lines, all_categories"
   ]
  },
  {
   "cell_type": "code",
   "execution_count": 6,
   "metadata": {},
   "outputs": [
    {
     "name": "stdout",
     "output_type": "stream",
     "text": [
      "12\n"
     ]
    }
   ],
   "source": [
    "print(ALL_LETTERS.find('m'))"
   ]
  },
  {
   "cell_type": "code",
   "execution_count": 7,
   "metadata": {},
   "outputs": [
    {
     "name": "stdout",
     "output_type": "stream",
     "text": [
      "tensor([[0., 0., 0., 0., 0., 0., 0., 0., 0., 0.]], device='cuda:0')\n",
      "\n",
      "torch.Size([1, 10])\n",
      "\n",
      "tensor([[0., 0., 0., 0., 0., 0., 1., 0., 0., 0.]], device='cuda:0')\n"
     ]
    }
   ],
   "source": [
    "### example of below function\n",
    "\n",
    "test_tensor1 = torch.zeros(1, 10).to(device)\n",
    "print(test_tensor1)\n",
    "print()\n",
    "print(test_tensor1.shape)\n",
    "test_tensor1[0][6] = 1\n",
    "print()\n",
    "print(test_tensor1)"
   ]
  },
  {
   "cell_type": "code",
   "execution_count": 8,
   "metadata": {},
   "outputs": [
    {
     "name": "stdout",
     "output_type": "stream",
     "text": [
      "abcdefghijklmnopqrstuvwxyzABCDEFGHIJKLMNOPQRSTUVWXYZ .,;'\n",
      "Slusarski\n",
      "['Abandonato', 'Abatangelo', 'Abatantuono', 'Abate', 'Abategiovanni']\n",
      "tensor([[0., 0., 0., 0., 0., 0., 0., 0., 0., 0., 0., 0., 0., 0., 0., 0., 0., 0.,\n",
      "         0., 0., 0., 0., 0., 0., 0., 0., 0., 0., 0., 0., 0., 0., 0., 0., 0., 1.,\n",
      "         0., 0., 0., 0., 0., 0., 0., 0., 0., 0., 0., 0., 0., 0., 0., 0., 0., 0.,\n",
      "         0., 0., 0.]], device='cuda:0')\n",
      "torch.Size([5, 1, 57])\n"
     ]
    }
   ],
   "source": [
    "\"\"\"\n",
    "To represent a single letter, we use a “one-hot vector” of \n",
    "size <1 x n_letters>. A one-hot vector is filled with 0s\n",
    "except for a 1 at index of the current letter, e.g. \"b\" = <0 1 0 0 0 ...>.\n",
    "\n",
    "To make a word we join a bunch of those into a\n",
    "2D matrix <line_length x 1 x n_letters>.\n",
    "\n",
    "That extra 1 dimension is because PyTorch assumes\n",
    "everything is in batches - we’re just using a batch size of 1 here.\n",
    "\"\"\"\n",
    "\n",
    "### Find letter index from all_letters, e.g. \"a\" = 0\n",
    "def letter_to_index(letter):\n",
    "    return ALL_LETTERS.find(letter)     ## find out the index position of the letter\n",
    "\n",
    "### Just for demonstration, turn a letter into a <1 x n_letters> Tensor\n",
    "def letter_to_tensor(letter):\n",
    "    tensor = torch.zeros(1, N_LETTERS).to(device)              ## 1 x 57  ..  because (57) is the total number of letters\n",
    "    tensor[0][letter_to_index(letter)] = 1          ## change the index position of the letter from zero (0) to one (1)\n",
    "    return tensor                                   ## return the modifield tensor\n",
    "\n",
    "## Turn a line into a <line_length x 1 x n_letters>,\n",
    "## or an array of one-hot letter vectors\n",
    "def line_to_tensor(line):\n",
    "    tensor = torch.zeros(len(line), 1, N_LETTERS).to(device)       ## if length of line or there are 45 words then tensor size will be ( 45, 1, 57 )\n",
    "    for i, letter in enumerate(line):                   ## iterate through all words\n",
    "        tensor[i][0][letter_to_index(letter)] = 1       ## change the index position of the letter from zero (0) to one (1)\n",
    "    return tensor\n",
    "\n",
    "\n",
    "def random_training_example(category_lines, all_categories):\n",
    "    \n",
    "    def random_choice(a):\n",
    "        random_idx = random.randint(0, len(a) - 1)\n",
    "        return a[random_idx]\n",
    "    \n",
    "    category = random_choice(all_categories)            ## random value between (0 to all_categories)\n",
    "    line = random_choice(category_lines[category])          ## random value between \n",
    "    category_tensor = torch.tensor([all_categories.index(category)], dtype=torch.long).to(device)\n",
    "    line_tensor = line_to_tensor(line)\n",
    "    return category, line, category_tensor, line_tensor\n",
    "\n",
    "\n",
    "\n",
    "if __name__ == '__main__':\n",
    "    print(ALL_LETTERS)\n",
    "    print(unicode_to_ascii('Ślusàrski'))\n",
    "    \n",
    "    category_lines, all_categories = load_data()\n",
    "    print(category_lines['Italian'][:5])\n",
    "    \n",
    "    print(letter_to_tensor('J')) # [1, 57]\n",
    "    print(line_to_tensor('Jones').size()) # [5, 1, 57]"
   ]
  },
  {
   "cell_type": "code",
   "execution_count": 9,
   "metadata": {},
   "outputs": [],
   "source": [
    "import torch\n",
    "import torch.nn as nn \n",
    "import matplotlib.pyplot as plt"
   ]
  },
  {
   "attachments": {
    "image.png": {
     "image/png": "[encoded data removed]"
    }
   },
   "cell_type": "markdown",
   "metadata": {},
   "source": [
    "![image.png](attachment:image.png)"
   ]
  },
  {
   "cell_type": "code",
   "execution_count": 10,
   "metadata": {},
   "outputs": [],
   "source": [
    "class RNN(nn.Module):\n",
    "\n",
    "    def __init__(self, input_size, hidden_size, output_size):\n",
    "        super(RNN, self).__init__()\n",
    "\n",
    "        self.hidden_size = hidden_size\n",
    "        self.input_to_hidden = nn.Linear(in_features= input_size + hidden_size, out_features= hidden_size)\n",
    "        self.input_to_output = nn.Linear(in_features= input_size + hidden_size, out_features= output_size)\n",
    "        self.softmax = nn.LogSoftmax(dim = 1)\n",
    "    \n",
    "    def forward(self, input_tensor, hidden_tensor):\n",
    "        combined = torch.cat((input_tensor, hidden_tensor), dim = 1)\n",
    "        hidden = self.input_to_hidden(combined)\n",
    "        output = self.input_to_output(combined)\n",
    "        output = self.softmax(output)\n",
    "\n",
    "        return output, hidden\n",
    "    \n",
    "    def init_hidden(self):\n",
    "        return torch.zeros(1, self.hidden_size).to(device)"
   ]
  },
  {
   "cell_type": "code",
   "execution_count": 11,
   "metadata": {},
   "outputs": [],
   "source": [
    "category_lines, all_categories = load_data()\n",
    "n_categories = len(all_categories)"
   ]
  },
  {
   "cell_type": "code",
   "execution_count": 12,
   "metadata": {},
   "outputs": [
    {
     "name": "stdout",
     "output_type": "stream",
     "text": [
      "['Arabic', 'Chinese', 'Czech', 'Dutch', 'English', 'French', 'German', 'Greek', 'Irish', 'Italian', 'Japanese', 'Korean', 'Polish', 'Portuguese', 'Russian', 'Scottish', 'Spanish', 'Vietnamese']\n",
      "18\n"
     ]
    }
   ],
   "source": [
    "## print(category_lines)     ## it it a dictionary contain category name as key and other words as value of that key .. (all words are in list)\n",
    "print(all_categories)\n",
    "print(n_categories)"
   ]
  },
  {
   "cell_type": "code",
   "execution_count": 13,
   "metadata": {},
   "outputs": [],
   "source": [
    "n_hidden = 128\n",
    "rnn = RNN(input_size= N_LETTERS, hidden_size= n_hidden, output_size= n_categories).to(device)"
   ]
  },
  {
   "cell_type": "code",
   "execution_count": 14,
   "metadata": {},
   "outputs": [
    {
     "name": "stdout",
     "output_type": "stream",
     "text": [
      "input tensor\n",
      "tensor([[0., 0., 0., 0., 0., 0., 0., 0., 0., 0., 0., 0., 0., 0., 0., 0., 0., 0.,\n",
      "         0., 0., 0., 0., 0., 0., 0., 0., 1., 0., 0., 0., 0., 0., 0., 0., 0., 0.,\n",
      "         0., 0., 0., 0., 0., 0., 0., 0., 0., 0., 0., 0., 0., 0., 0., 0., 0., 0.,\n",
      "         0., 0., 0.]], device='cuda:0')\n",
      "hidden tensor\n",
      "tensor([[0., 0., 0., 0., 0., 0., 0., 0., 0., 0., 0., 0., 0., 0., 0., 0., 0., 0., 0., 0., 0., 0., 0., 0.,\n",
      "         0., 0., 0., 0., 0., 0., 0., 0., 0., 0., 0., 0., 0., 0., 0., 0., 0., 0., 0., 0., 0., 0., 0., 0.,\n",
      "         0., 0., 0., 0., 0., 0., 0., 0., 0., 0., 0., 0., 0., 0., 0., 0., 0., 0., 0., 0., 0., 0., 0., 0.,\n",
      "         0., 0., 0., 0., 0., 0., 0., 0., 0., 0., 0., 0., 0., 0., 0., 0., 0., 0., 0., 0., 0., 0., 0., 0.,\n",
      "         0., 0., 0., 0., 0., 0., 0., 0., 0., 0., 0., 0., 0., 0., 0., 0., 0., 0., 0., 0., 0., 0., 0., 0.,\n",
      "         0., 0., 0., 0., 0., 0., 0., 0.]], device='cuda:0')\n",
      "\n",
      "torch.Size([1, 18])\n",
      "torch.Size([1, 128])\n",
      "\n",
      "output\n",
      "tensor([[-3.0144, -2.8990, -2.9772, -2.7521, -2.8897, -3.0157, -2.7757, -2.9022,\n",
      "         -2.9526, -2.7831, -2.9834, -2.9255, -2.8509, -3.0072, -2.8173, -2.7829,\n",
      "         -2.8949, -2.8674]], device='cuda:0', grad_fn=<LogSoftmaxBackward0>)\n",
      "next hidden\n",
      "tensor([[ 0.0457,  0.0828, -0.0091,  0.0169, -0.0433,  0.0557, -0.0915,  0.0453,\n",
      "         -0.0424, -0.0327, -0.1259, -0.0386,  0.0455, -0.0233, -0.0199,  0.0060,\n",
      "         -0.0944, -0.0129, -0.0672,  0.0849,  0.0257,  0.0641, -0.0207,  0.0102,\n",
      "         -0.0881, -0.0133,  0.0265,  0.0969, -0.0389,  0.0737,  0.0504,  0.0010,\n",
      "          0.1416, -0.0077, -0.1062,  0.1146, -0.0345, -0.0518,  0.1325, -0.0302,\n",
      "         -0.0528,  0.0303, -0.1245, -0.0563, -0.0232, -0.1107, -0.0496,  0.1146,\n",
      "         -0.0466,  0.0201,  0.0186, -0.0098,  0.0484,  0.0506,  0.0604,  0.0702,\n",
      "         -0.0837,  0.0695, -0.1295, -0.0076, -0.0885,  0.0687, -0.0392,  0.0699,\n",
      "         -0.0012, -0.0879, -0.0584,  0.0242, -0.0015, -0.0764,  0.0030,  0.0429,\n",
      "          0.0989,  0.0120, -0.0382, -0.0639, -0.0036,  0.0601,  0.0226,  0.0112,\n",
      "          0.0650, -0.0513, -0.0595, -0.0184,  0.0758,  0.0573,  0.1069, -0.0037,\n",
      "         -0.0853,  0.0709,  0.1349, -0.0893,  0.0043,  0.0914,  0.0204,  0.0919,\n",
      "          0.0072,  0.0106,  0.0393, -0.0463, -0.1091,  0.0467,  0.1209, -0.0050,\n",
      "         -0.0271, -0.0140,  0.0195,  0.0378,  0.0501, -0.0857, -0.0180, -0.0492,\n",
      "          0.0077,  0.1025, -0.0051, -0.0193,  0.1235, -0.0102, -0.0668, -0.0399,\n",
      "         -0.0432,  0.0766,  0.0462,  0.0281,  0.0497, -0.0592,  0.0195, -0.0066]],\n",
      "       device='cuda:0', grad_fn=<AddmmBackward0>)\n"
     ]
    }
   ],
   "source": [
    "### one step\n",
    "input_tensor = letter_to_tensor('A')\n",
    "print(\"input tensor\")\n",
    "print(input_tensor)\n",
    "\n",
    "hidden_tensor = rnn.init_hidden()\n",
    "\n",
    "print(\"hidden tensor\")\n",
    "print(hidden_tensor)\n",
    "\n",
    "output, next_hidden = rnn(input_tensor, hidden_tensor)\n",
    "print()\n",
    "\n",
    "print(output.size())\n",
    "print(next_hidden.size())\n",
    "\n",
    "print()\n",
    "print(\"output\")\n",
    "print(output)               ## randomly generated values\n",
    "print(\"next hidden\")\n",
    "print(next_hidden)          ## randomly generated values"
   ]
  },
  {
   "cell_type": "code",
   "execution_count": 15,
   "metadata": {},
   "outputs": [],
   "source": [
    "# ### whole sequence/name\n",
    "\n",
    "# input_tensor = line_to_tensor('Albert')\n",
    "# print(\"input tensor\")\n",
    "# print(input_tensor)\n",
    "\n",
    "# hidden_tensor = rnn.init_hidden()\n",
    "\n",
    "# print(\"hidden tensor\")\n",
    "# print(hidden_tensor)\n",
    "\n",
    "# output, next_hidden = rnn(input_tensor[0], hidden_tensor)\n",
    "# print()\n",
    "\n",
    "# print(output.size())\n",
    "# print(next_hidden.size())\n",
    "\n",
    "# print()\n",
    "# print(\"output\")\n",
    "# print(output)               ## randomly generated values\n",
    "# print(\"next hidden\")\n",
    "# print(next_hidden)          ## randomly generated values"
   ]
  },
  {
   "cell_type": "code",
   "execution_count": 16,
   "metadata": {},
   "outputs": [],
   "source": [
    "def category_from_output(output):\n",
    "    category_idx = torch.argmax(output).item()      ## findout the maximum value of the tensor and it will return index\n",
    "    return all_categories[category_idx]\n",
    "\n",
    "# print(category_from_output(output))"
   ]
  },
  {
   "cell_type": "code",
   "execution_count": 17,
   "metadata": {},
   "outputs": [],
   "source": [
    "\"\"\"\n",
    "The Negative Log-Likelihood Loss function (NLL) is applied only on models with the softmax function as an output activation layer. \n",
    "Softmax refers to an activation function that calculates the normalized exponential function of every unit in the layer.\n",
    "\"\"\"\n",
    "criterion = nn.NLLLoss()\n",
    "learning_rate = 0.005\n",
    "optimizer = torch.optim.SGD(rnn.parameters(), lr=learning_rate)"
   ]
  },
  {
   "cell_type": "code",
   "execution_count": 18,
   "metadata": {},
   "outputs": [],
   "source": [
    "def train(line_tensor, category_tensor):\n",
    "    hidden = rnn.init_hidden()          ## it is zeros of dimension => ( 1, hidden_size)\n",
    "    \n",
    "    for i in range(line_tensor.size()[0]):\n",
    "        output, hidden = rnn(line_tensor[i], hidden)\n",
    "        \n",
    "    loss = criterion(output, category_tensor)\n",
    "    \n",
    "    optimizer.zero_grad()\n",
    "    loss.backward()\n",
    "    optimizer.step()\n",
    "    \n",
    "    return output, loss.item()"
   ]
  },
  {
   "cell_type": "code",
   "execution_count": 19,
   "metadata": {},
   "outputs": [
    {
     "name": "stdout",
     "output_type": "stream",
     "text": [
      "5000 5.0 2.8027 Roffey / Russian WRONG (English)\n",
      "10000 10.0 1.0478 Asahara / Japanese CORRECT\n",
      "15000 15.0 1.7125 Ton / Korean WRONG (Vietnamese)\n",
      "20000 20.0 1.7387 Movsumadze / Russian CORRECT\n",
      "25000 25.0 1.8037 Menendez / Dutch WRONG (Spanish)\n",
      "30000 30.0 0.6930 Sam / Chinese CORRECT\n",
      "35000 35.0 0.9910 Bieber / German CORRECT\n",
      "40000 40.0 0.8704 Leeuwenhoeck / Dutch CORRECT\n",
      "45000 45.0 2.7579 Seif / Korean WRONG (Arabic)\n",
      "50000 50.0 4.7751 Maas / Chinese WRONG (Dutch)\n",
      "55000 55.00000000000001 0.2983 AbdankKossovsky / Russian CORRECT\n",
      "60000 60.0 1.6931 Kerby / English CORRECT\n",
      "65000 65.0 0.0792 Akrivopoulos / Greek CORRECT\n",
      "70000 70.0 0.3426 Pezos / Greek CORRECT\n",
      "75000 75.0 0.9088 Davidson / Scottish CORRECT\n",
      "80000 80.0 0.3664 Thi / Vietnamese CORRECT\n",
      "85000 85.0 2.6199 Santana / Spanish WRONG (Portuguese)\n",
      "90000 90.0 2.0238 Feltham / Irish WRONG (English)\n",
      "95000 95.0 0.4580 Avrov / Russian CORRECT\n",
      "100000 100.0 0.3626 Kuijpers / Dutch CORRECT\n"
     ]
    }
   ],
   "source": [
    "current_loss = 0\n",
    "all_losses = []\n",
    "plot_steps, print_steps = 1000, 5000\n",
    "n_iters = 100000\n",
    "for i in range(n_iters):\n",
    "    category, line, category_tensor, line_tensor = random_training_example(category_lines, all_categories)\n",
    "    \n",
    "    output, loss = train(line_tensor, category_tensor)\n",
    "    current_loss += loss \n",
    "    \n",
    "    if (i+1) % plot_steps == 0:\n",
    "        all_losses.append(current_loss / plot_steps)\n",
    "        current_loss = 0\n",
    "        \n",
    "    if (i+1) % print_steps == 0:\n",
    "        guess = category_from_output(output)\n",
    "        correct = \"CORRECT\" if guess == category else f\"WRONG ({category})\"\n",
    "        print(f\"{i+1} {(i+1)/n_iters*100} {loss:.4f} {line} / {guess} {correct}\")"
   ]
  },
  {
   "cell_type": "code",
   "execution_count": 20,
   "metadata": {},
   "outputs": [
    {
     "data": {
      "image/png": "[encoded data removed]",
      "text/plain": [
       "<Figure size 640x480 with 1 Axes>"
      ]
     },
     "metadata": {},
     "output_type": "display_data"
    }
   ],
   "source": [
    "plt.figure()\n",
    "plt.plot(all_losses)\n",
    "plt.show()"
   ]
  },
  {
   "cell_type": "code",
   "execution_count": 23,
   "metadata": {},
   "outputs": [
    {
     "name": "stdout",
     "output_type": "stream",
     "text": [
      "\n",
      "> Agar\n",
      "German\n"
     ]
    }
   ],
   "source": [
    "def predict(input_line):\n",
    "    print(f\"\\n> {input_line}\")\n",
    "    with torch.no_grad():\n",
    "        line_tensor = line_to_tensor(input_line)\n",
    "        \n",
    "        hidden = rnn.init_hidden()\n",
    "    \n",
    "        for i in range(line_tensor.size()[0]):\n",
    "            output, hidden = rnn(line_tensor[i], hidden)\n",
    "        \n",
    "        guess = category_from_output(output)\n",
    "        print(guess)\n",
    "\n",
    "predict(\"Agar\")\n",
    "\n",
    "# while True:\n",
    "#     sentence = input(\"Input:\")\n",
    "#     if sentence == \"quit\":\n",
    "#         break\n",
    "    \n",
    "#     predict(sentence)"
   ]
  }
 ],
 "metadata": {
  "kernelspec": {
   "display_name": "torchenv",
   "language": "python",
   "name": "python3"
  },
  "language_info": {
   "codemirror_mode": {
    "name": "ipython",
    "version": 3
   },
   "file_extension": ".py",
   "mimetype": "text/x-python",
   "name": "python",
   "nbconvert_exporter": "python",
   "pygments_lexer": "ipython3",
   "version": "3.10.14"
  }
 },
 "nbformat": 4,
 "nbformat_minor": 2
}
