{
 "cells": [
  {
   "cell_type": "code",
   "execution_count": 1,
   "metadata": {},
   "outputs": [],
   "source": [
    "import torch\n",
    "import torchvision\n",
    "from torch.utils.data import Dataset, DataLoader\n",
    "import numpy as np\n",
    "import math\n",
    "\n"
   ]
  },
  {
   "cell_type": "markdown",
   "metadata": {},
   "source": [
    "## 1 Dataset"
   ]
  },
  {
   "cell_type": "code",
   "execution_count": 2,
   "metadata": {},
   "outputs": [],
   "source": [
    "class WineDataset(Dataset):\n",
    "\n",
    "    def __init__(self) -> None:\n",
    "            ### np load data\n",
    "        xy = np.loadtxt(fname=r\"C:\\Users\\jites\\Downloads\\wine.csv\",    ## file path\n",
    "                        delimiter=',',                                 ## it is a csv file some the datas are seperated by ( , ) comma\n",
    "                        dtype=np.float32,                              ## what is the data type\n",
    "                        skiprows=1)                                    ## hwhich rows you want to skip \n",
    "        self.x = torch.from_numpy(xy[:, 1:])        ## x contain all rows and except  1st column all columns\n",
    "        self.y = torch.from_numpy(xy[:, [0]])       ## y contain all rows and only 0th index column( first column )\n",
    "        self.n_samples = xy.shape[0]                ## how many records are there\n",
    "\n",
    "\n",
    "    def __getitem__(self, index):\n",
    "        return self.x[index], self.y[index]\n",
    "    \n",
    "\n",
    "    def __len__(self):\n",
    "        return self.n_samples\n"
   ]
  },
  {
   "cell_type": "code",
   "execution_count": 3,
   "metadata": {},
   "outputs": [
    {
     "name": "stdout",
     "output_type": "stream",
     "text": [
      "(tensor([1.4230e+01, 1.7100e+00, 2.4300e+00, 1.5600e+01, 1.2700e+02, 2.8000e+00,\n",
      "        3.0600e+00, 2.8000e-01, 2.2900e+00, 5.6400e+00, 1.0400e+00, 3.9200e+00,\n",
      "        1.0650e+03]), tensor([1.]))\n",
      "tensor([1.4230e+01, 1.7100e+00, 2.4300e+00, 1.5600e+01, 1.2700e+02, 2.8000e+00,\n",
      "        3.0600e+00, 2.8000e-01, 2.2900e+00, 5.6400e+00, 1.0400e+00, 3.9200e+00,\n",
      "        1.0650e+03]) tensor([1.])\n"
     ]
    }
   ],
   "source": [
    "wn_dataset = WineDataset()\n",
    "first_data = wn_dataset[0]         ## this thing will call ( __getitem__) method\n",
    "print(first_data)\n",
    "features, labels = first_data   ## ( __getitem__ ) returns 2 data ( x and y )\n",
    "print(features, labels)"
   ]
  },
  {
   "cell_type": "markdown",
   "metadata": {},
   "source": [
    "## 2 DataLoader"
   ]
  },
  {
   "cell_type": "code",
   "execution_count": 4,
   "metadata": {},
   "outputs": [
    {
     "name": "stdout",
     "output_type": "stream",
     "text": [
      "tensor([[1.2080e+01, 2.0800e+00, 1.7000e+00, 1.7500e+01, 9.7000e+01, 2.2300e+00,\n",
      "         2.1700e+00, 2.6000e-01, 1.4000e+00, 3.3000e+00, 1.2700e+00, 2.9600e+00,\n",
      "         7.1000e+02],\n",
      "        [1.2360e+01, 3.8300e+00, 2.3800e+00, 2.1000e+01, 8.8000e+01, 2.3000e+00,\n",
      "         9.2000e-01, 5.0000e-01, 1.0400e+00, 7.6500e+00, 5.6000e-01, 1.5800e+00,\n",
      "         5.2000e+02],\n",
      "        [1.2290e+01, 2.8300e+00, 2.2200e+00, 1.8000e+01, 8.8000e+01, 2.4500e+00,\n",
      "         2.2500e+00, 2.5000e-01, 1.9900e+00, 2.1500e+00, 1.1500e+00, 3.3000e+00,\n",
      "         2.9000e+02],\n",
      "        [1.2250e+01, 1.7300e+00, 2.1200e+00, 1.9000e+01, 8.0000e+01, 1.6500e+00,\n",
      "         2.0300e+00, 3.7000e-01, 1.6300e+00, 3.4000e+00, 1.0000e+00, 3.1700e+00,\n",
      "         5.1000e+02]]) tensor([[2.],\n",
      "        [3.],\n",
      "        [2.],\n",
      "        [2.]])\n"
     ]
    }
   ],
   "source": [
    "dataloader = DataLoader(dataset= wn_dataset,        ## dataset class\n",
    "                        batch_size=4,               ## batch_size for how many data you want to read at one time\n",
    "                        shuffle=True,               ## shuffle all the columns\n",
    "                        num_workers=0)              ## how many worker you want to add .....  this should always be zero \n",
    "\n",
    "dataiter = iter(dataloader)             ## iterate through the all data\n",
    "data = next(dataiter)                   ## get one btch of data\n",
    "# data = dataiter.next()\n",
    "features, labels = data                 ## you will get x and y data together from the CSV file\n",
    "print(features, labels)"
   ]
  },
  {
   "cell_type": "markdown",
   "metadata": {},
   "source": [
    "## 3 transform"
   ]
  },
  {
   "cell_type": "code",
   "execution_count": 5,
   "metadata": {},
   "outputs": [],
   "source": [
    "class WineDataset2(Dataset):\n",
    "\n",
    "    def __init__(self, transform = None):\n",
    "        xy = np.loadtxt(fname= r\"C:\\Users\\jites\\Downloads\\wine.csv\", dtype=np.float32, delimiter=',', skiprows=1)\n",
    "        self.x = xy[:, 1:]\n",
    "        self.y = xy[:, [0]]\n",
    "        self.transform = transform\n",
    "        self.n_samples = xy.shape[0]\n",
    "\n",
    "    def __getitem__(self, index):\n",
    "        sample = self.x[index] , self.y[index]\n",
    "\n",
    "        if self.transform:\n",
    "            sample = self.transform(sample)         ## transform is a class which will trnsform your data into any other format or value\n",
    "\n",
    "        return sample\n",
    "\n",
    "    def __len__(self):\n",
    "        return self.n_samples\n",
    "\n",
    "\n",
    "\n",
    "class ToTensor:\n",
    "\n",
    "    def __call__(self, sample):                     ## once you pass any data to a class ( __call__ ) method will automatically call\n",
    "        input, traget = sample                  ## get the sample data in ( __call__ ) method\n",
    "        return torch.from_numpy(input), torch.from_numpy(traget)        ## convert the data from np array to torch tensor and return it"
   ]
  },
  {
   "cell_type": "code",
   "execution_count": 6,
   "metadata": {},
   "outputs": [
    {
     "name": "stdout",
     "output_type": "stream",
     "text": [
      "tensor([1.4230e+01, 1.7100e+00, 2.4300e+00, 1.5600e+01, 1.2700e+02, 2.8000e+00,\n",
      "        3.0600e+00, 2.8000e-01, 2.2900e+00, 5.6400e+00, 1.0400e+00, 3.9200e+00,\n",
      "        1.0650e+03]) tensor([1.])\n"
     ]
    }
   ],
   "source": [
    "wn_dataset2 = WineDataset2(transform=ToTensor())        ## transform is a class which will convert the np array to torch tensor \n",
    "first_data = wn_dataset2[0]\n",
    "features, labels = first_data\n",
    "print(features, labels)"
   ]
  },
  {
   "cell_type": "markdown",
   "metadata": {},
   "source": [
    "## 4 MulTransform"
   ]
  },
  {
   "cell_type": "code",
   "execution_count": 7,
   "metadata": {},
   "outputs": [
    {
     "name": "stdout",
     "output_type": "stream",
     "text": [
      "tensor([2.8460e+01, 3.4200e+00, 4.8600e+00, 3.1200e+01, 2.5400e+02, 5.6000e+00,\n",
      "        6.1200e+00, 5.6000e-01, 4.5800e+00, 1.1280e+01, 2.0800e+00, 7.8400e+00,\n",
      "        2.1300e+03]) tensor([1.])\n"
     ]
    }
   ],
   "source": [
    "class MulTransform:\n",
    "\n",
    "    def __init__(self, factor):\n",
    "        self.factor = factor\n",
    "\n",
    "    def __call__(self, sample):             ## sample data will come to this method\n",
    "        input, target = sample\n",
    "        input = input * self.factor         ## multiply the factor value with the input tensor\n",
    "        return input, target                ## return the actual raget data and new input tensor\n",
    "    \n",
    "\n",
    "compose = torchvision.transforms.Compose([ToTensor(), MulTransform(2)])         ## compose contain a list of transform class\n",
    "                                                                            ## one class will execute some operationa and the data will \n",
    "                                                                            ## automatically enter the second class for the second operation\n",
    "                                                                            ## and process will continue till the last class\n",
    "wn_dataset3 = WineDataset2(transform=compose)\n",
    "first_data = wn_dataset3[0]\n",
    "features, labels = first_data\n",
    "print(features, labels)"
   ]
  }
 ],
 "metadata": {
  "kernelspec": {
   "display_name": "torchenv",
   "language": "python",
   "name": "python3"
  },
  "language_info": {
   "codemirror_mode": {
    "name": "ipython",
    "version": 3
   },
   "file_extension": ".py",
   "mimetype": "text/x-python",
   "name": "python",
   "nbconvert_exporter": "python",
   "pygments_lexer": "ipython3",
   "version": "3.10.14"
  }
 },
 "nbformat": 4,
 "nbformat_minor": 2
}
