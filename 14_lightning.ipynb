{
 "cells": [
  {
   "cell_type": "code",
   "execution_count": 1,
   "metadata": {},
   "outputs": [],
   "source": [
    "import torch\n",
    "import torch.nn as nn\n",
    "import torchvision\n",
    "from torchvision.transforms import transforms\n",
    "import torch.nn.functional as F\n",
    "import matplotlib.pyplot as plt\n",
    "import pytorch_lightning as pl\n",
    "from pytorch_lightning import Trainer"
   ]
  },
  {
   "cell_type": "code",
   "execution_count": 2,
   "metadata": {},
   "outputs": [],
   "source": [
    "# !pip install lightning[extra] tensorboard"
   ]
  },
  {
   "cell_type": "code",
   "execution_count": 3,
   "metadata": {},
   "outputs": [],
   "source": [
    "### Hyper-parameters\n",
    "input_size = 784    ## image size => 28*28\n",
    "hidden_size = 500\n",
    "num_classes = 10\n",
    "num_epochs = 2\n",
    "batch_size = 100\n",
    "learning_rate = 0.001"
   ]
  },
  {
   "cell_type": "code",
   "execution_count": 4,
   "metadata": {},
   "outputs": [],
   "source": [
    "# Set precision to leverage Tensor Cores for improved performance\n",
    "torch.set_float32_matmul_precision('medium')\n",
    "\n",
    "### Fully connected neural network with one hidden layer\n",
    "\n",
    "class LitNeuralNet(pl.LightningModule):\n",
    "\n",
    "    def __init__(self, input_size, hidden_size, num_classes):\n",
    "        super(LitNeuralNet, self).__init__()\n",
    "        self.l1 = nn.Linear(in_features= input_size, out_features= hidden_size)\n",
    "        self.relu = nn.ReLU()\n",
    "        self.l2 = nn.Linear(in_features= hidden_size, out_features= num_classes)\n",
    "        \n",
    "        # Initialize the list for storing validation losses\n",
    "        self.val_losses = []\n",
    "    def forward(self, x):\n",
    "\n",
    "        out = self.l1(x)\n",
    "        out = self.relu(out)\n",
    "        out = self.l2(out)\n",
    "        return out\n",
    "    \n",
    "    def train_dataloader(self):\n",
    "        training_dataset = torchvision.datasets.MNIST(root='./mnist_folder', \n",
    "                                                train=True, \n",
    "                                                transform= transforms.ToTensor(), \n",
    "                                                download=True)\n",
    "        \n",
    "        train_loader = torch.utils.data.DataLoader(dataset= training_dataset,\n",
    "                                                batch_size= batch_size,\n",
    "                                                num_workers = 2,\n",
    "                                                persistent_workers = True,\n",
    "                                                shuffle= True)\n",
    "        return train_loader\n",
    "        \n",
    "    def val_dataloader(self):\n",
    "        testing_dataset = torchvision.datasets.MNIST(root='./mnist_folder', \n",
    "                                                train=False, \n",
    "                                                transform= transforms.ToTensor(), \n",
    "                                                download=False)\n",
    "        \n",
    "        test_loader = torch.utils.data.DataLoader(dataset= testing_dataset,\n",
    "                                                batch_size= batch_size,\n",
    "                                                num_workers = 2,\n",
    "                                                persistent_workers = True,\n",
    "                                                shuffle= False)\n",
    "        return test_loader\n",
    "    \n",
    "    def training_step(self, batch, batch_idx):\n",
    "        images , labels = batch\n",
    "        ## original image size = [100, 1, 28, 28] because of ( 100 => total images , 1 => one color channel , ( 28*28 ) => pixel size)\n",
    "        ## you have resize the image as per the model input\n",
    "        ## [100, 784] because ( total 100 images are there and 784 is the pixel value after flatten )\n",
    "        images = images.reshape(-1, 28*28)\n",
    "\n",
    "        ## forward pass\n",
    "        output = self(images)\n",
    "        loss = F.cross_entropy(output, labels)\n",
    "\n",
    "        tensorboard_logs = {'train_loss': loss}\n",
    "        ### use key 'log'\n",
    "        return {\"loss\": loss, 'log': tensorboard_logs}\n",
    "\n",
    "    def validation_step(self, batch, batch_idx):\n",
    "        images, labels = batch\n",
    "        images = images.reshape(-1, 28*28)\n",
    "        output = self(images)\n",
    "        loss = F.cross_entropy(output, labels)\n",
    "        return {\"val_loss\": loss}\n",
    "\n",
    "    # def on_validation_batch_end(self, outputs):\n",
    "    #     # outputs = list of dictionaries\n",
    "    #     avg_loss = torch.stack([x['val_loss'] for x in outputs]).mean()\n",
    "    #     tensorboard_logs = {'avg_val_loss': avg_loss}\n",
    "    #     # use key 'log'\n",
    "    #     return {'val_loss': avg_loss, 'log': tensorboard_logs}\n",
    "\n",
    "    # def validation_epoch_end(self, outputs):\n",
    "    #     # outputs is a list of dictionaries from each validation step\n",
    "    #     avg_loss = torch.stack([x['val_loss'] for x in outputs]).mean()\n",
    "    #     tensorboard_logs = {'avg_val_loss': avg_loss}\n",
    "    #     return {'val_loss': avg_loss, 'log': tensorboard_logs}\n",
    "\n",
    "    def validation_step(self, batch, batch_idx):\n",
    "        images, labels = batch\n",
    "        images = images.view(-1, 28 * 28)\n",
    "        output = self(images)\n",
    "        loss = F.cross_entropy(output, labels)\n",
    "        \n",
    "        # Store loss for later use in on_validation_epoch_end\n",
    "        self.val_losses.append(loss)\n",
    "        \n",
    "        return {\"val_loss\": loss}\n",
    "\n",
    "\n",
    "    def on_validation_epoch_end(self):\n",
    "        # Calculate average validation loss\n",
    "        avg_loss = torch.stack(self.val_losses).mean()\n",
    "        \n",
    "        # Log the average validation loss\n",
    "        self.log('avg_val_loss', avg_loss, prog_bar=True)\n",
    "        \n",
    "        # Clear stored losses\n",
    "        self.val_losses.clear()\n",
    "\n",
    "    def configure_optimizers(self):\n",
    "        return torch.optim.Adam(self.parameters(), lr=learning_rate)"
   ]
  },
  {
   "cell_type": "code",
   "execution_count": 5,
   "metadata": {},
   "outputs": [
    {
     "name": "stderr",
     "output_type": "stream",
     "text": [
      "GPU available: True (cuda), used: True\n",
      "TPU available: False, using: 0 TPU cores\n",
      "HPU available: False, using: 0 HPUs\n",
      "LOCAL_RANK: 0 - CUDA_VISIBLE_DEVICES: [0]\n",
      "\n",
      "  | Name | Type   | Params | Mode \n",
      "----------------------------------------\n",
      "0 | l1   | Linear | 392 K  | train\n",
      "1 | relu | ReLU   | 0      | train\n",
      "2 | l2   | Linear | 5.0 K  | train\n",
      "----------------------------------------\n",
      "397 K     Trainable params\n",
      "0         Non-trainable params\n",
      "397 K     Total params\n",
      "1.590     Total estimated model params size (MB)\n"
     ]
    },
    {
     "data": {
      "application/vnd.jupyter.widget-view+json": {
       "model_id": "9aef32d449644754b50fbb0500983b9e",
       "version_major": 2,
       "version_minor": 0
      },
      "text/plain": [
       "Sanity Checking: |          | 0/? [00:00<?, ?it/s]"
      ]
     },
     "metadata": {},
     "output_type": "display_data"
    },
    {
     "data": {
      "application/vnd.jupyter.widget-view+json": {
       "model_id": "9e7c2ee2cd82435e85efa61b22f31e71",
       "version_major": 2,
       "version_minor": 0
      },
      "text/plain": [
       "Training: |          | 0/? [00:00<?, ?it/s]"
      ]
     },
     "metadata": {},
     "output_type": "display_data"
    },
    {
     "data": {
      "application/vnd.jupyter.widget-view+json": {
       "model_id": "76542b93b4c74ccb952ac2ab65e16908",
       "version_major": 2,
       "version_minor": 0
      },
      "text/plain": [
       "Validation: |          | 0/? [00:00<?, ?it/s]"
      ]
     },
     "metadata": {},
     "output_type": "display_data"
    },
    {
     "data": {
      "application/vnd.jupyter.widget-view+json": {
       "model_id": "693e497275e441b3a04e5aeecd683ea2",
       "version_major": 2,
       "version_minor": 0
      },
      "text/plain": [
       "Validation: |          | 0/? [00:00<?, ?it/s]"
      ]
     },
     "metadata": {},
     "output_type": "display_data"
    },
    {
     "name": "stderr",
     "output_type": "stream",
     "text": [
      "`Trainer.fit` stopped: `max_epochs=2` reached.\n"
     ]
    }
   ],
   "source": [
    "if __name__ == '__main__':\n",
    "    model = LitNeuralNet(input_size, hidden_size, num_classes)\n",
    "    \n",
    "    # gpus=8\n",
    "    # fast_dev_run=True -> runs single batch through training and validation\n",
    "    # train_percent_check=0.1 -> train only on 10% of data\n",
    "    # trainer = Trainer(max_epochs=num_epochs)\n",
    "    trainer = Trainer(max_epochs=num_epochs, devices=1, accelerator='gpu', logger=True)\n",
    "    trainer.fit(model)\n",
    "          \n",
    "    # advanced features\n",
    "    # distributed_backend\n",
    "    # (DDP) implements data parallelism at the module level which can run across multiple machines.\n",
    "    # 16 bit precision\n",
    "    # log_gpu_memory\n",
    "    # TPU support\n",
    "    \n",
    "    # auto_lr_find: automatically finds a good learning rate before training\n",
    "    # deterministic: makes training reproducable\n",
    "    # gradient_clip_val: 0 default\n"
   ]
  },
  {
   "cell_type": "code",
   "execution_count": null,
   "metadata": {},
   "outputs": [],
   "source": []
  },
  {
   "cell_type": "markdown",
   "metadata": {},
   "source": [
    "# Model with EarlyStopping, Learning Rate Scheduler, Model Checkpoint, and Callbacks"
   ]
  },
  {
   "cell_type": "code",
   "execution_count": 6,
   "metadata": {},
   "outputs": [],
   "source": [
    "from torch.optim.lr_scheduler import ReduceLROnPlateau, StepLR\n",
    "from pytorch_lightning.callbacks import EarlyStopping, ModelCheckpoint, LearningRateMonitor, Callback\n",
    "\n",
    "# Set precision to leverage Tensor Cores for improved performance\n",
    "torch.set_float32_matmul_precision('medium')\n",
    "\n",
    "### Fully connected neural network with one hidden layer\n",
    "class LitNeuralNet2(pl.LightningModule):\n",
    "\n",
    "    def __init__(self, input_size, hidden_size, num_classes):\n",
    "        super(LitNeuralNet2, self).__init__()\n",
    "        self.l1 = nn.Linear(in_features= input_size, out_features= hidden_size)\n",
    "        self.relu = nn.ReLU()\n",
    "        self.l2 = nn.Linear(in_features= hidden_size, out_features= num_classes)\n",
    "        \n",
    "        # Initialize the list for storing validation losses\n",
    "        self.val_losses = []\n",
    "    def forward(self, x):\n",
    "\n",
    "        out = self.l1(x)\n",
    "        out = self.relu(out)\n",
    "        out = self.l2(out)\n",
    "        return out\n",
    "    \n",
    "    def train_dataloader(self):\n",
    "        training_dataset = torchvision.datasets.MNIST(root='./mnist_folder', \n",
    "                                                train=True, \n",
    "                                                transform= transforms.ToTensor(), \n",
    "                                                download=True)\n",
    "        \n",
    "        train_loader = torch.utils.data.DataLoader(dataset= training_dataset,\n",
    "                                                batch_size= batch_size,\n",
    "                                                num_workers = 2,\n",
    "                                                persistent_workers = True,\n",
    "                                                shuffle= True)\n",
    "        return train_loader\n",
    "        \n",
    "    def val_dataloader(self):\n",
    "        testing_dataset = torchvision.datasets.MNIST(root='./mnist_folder', \n",
    "                                                train=False, \n",
    "                                                transform= transforms.ToTensor(), \n",
    "                                                download=False)\n",
    "        \n",
    "        test_loader = torch.utils.data.DataLoader(dataset= testing_dataset,\n",
    "                                                batch_size= batch_size,\n",
    "                                                num_workers = 2,\n",
    "                                                persistent_workers = True,\n",
    "                                                shuffle= False)\n",
    "        return test_loader\n",
    "    \n",
    "    def training_step(self, batch, batch_idx):\n",
    "        images , labels = batch\n",
    "        ## original image size = [100, 1, 28, 28] because of ( 100 => total images , 1 => one color channel , ( 28*28 ) => pixel size)\n",
    "        ## you have resize the image as per the model input\n",
    "        ## [100, 784] because ( total 100 images are there and 784 is the pixel value after flatten )\n",
    "        images = images.reshape(-1, 28*28)\n",
    "\n",
    "        ## forward pass\n",
    "        output = self(images)\n",
    "        loss = F.cross_entropy(output, labels)\n",
    "\n",
    "        tensorboard_logs = {'train_loss': loss}\n",
    "        ### use key 'log'\n",
    "        return {\"loss\": loss, 'log': tensorboard_logs}\n",
    "\n",
    "    def validation_step(self, batch, batch_idx):\n",
    "        images, labels = batch\n",
    "        images = images.reshape(-1, 28*28)\n",
    "        output = self(images)\n",
    "        loss = F.cross_entropy(output, labels)\n",
    "        return {\"val_loss\": loss}\n",
    "\n",
    "    # def on_validation_batch_end(self, outputs):\n",
    "    #     # outputs = list of dictionaries\n",
    "    #     avg_loss = torch.stack([x['val_loss'] for x in outputs]).mean()\n",
    "    #     tensorboard_logs = {'avg_val_loss': avg_loss}\n",
    "    #     # use key 'log'\n",
    "    #     return {'val_loss': avg_loss, 'log': tensorboard_logs}\n",
    "\n",
    "    # def validation_epoch_end(self, outputs):\n",
    "    #     # outputs is a list of dictionaries from each validation step\n",
    "    #     avg_loss = torch.stack([x['val_loss'] for x in outputs]).mean()\n",
    "    #     tensorboard_logs = {'avg_val_loss': avg_loss}\n",
    "    #     return {'val_loss': avg_loss, 'log': tensorboard_logs}\n",
    "\n",
    "    def validation_step(self, batch, batch_idx):\n",
    "        images, labels = batch\n",
    "        images = images.view(-1, 28 * 28)\n",
    "        output = self(images)\n",
    "        loss = F.cross_entropy(output, labels)\n",
    "        \n",
    "        # Store loss for later use in on_validation_epoch_end\n",
    "        self.val_losses.append(loss)\n",
    "        \n",
    "        return {\"val_loss\": loss}\n",
    "\n",
    "    def on_validation_epoch_end(self):\n",
    "        # Calculate average validation loss\n",
    "        avg_loss = torch.stack(self.val_losses).mean()\n",
    "        \n",
    "        # Log the average validation loss\n",
    "        self.log('avg_val_loss', avg_loss, prog_bar=True)\n",
    "        \n",
    "        # Clear stored losses\n",
    "        self.val_losses.clear()\n",
    "\n",
    "    def configure_optimizers(self):\n",
    "        optimizer = torch.optim.Adam(self.parameters(), lr=learning_rate)\n",
    "        \n",
    "        # Use a StepLR scheduler\n",
    "        scheduler = StepLR(optimizer, step_size=1, gamma=0.7)\n",
    "        # scheduler = ReduceLROnPlateau(optimizer, mode='min', factor=0.2, patience=3, min_lr=7e-7, cooldown=0)\n",
    "\n",
    "        # Return the optimizer and scheduler\n",
    "        return {\"optimizer\": optimizer, \"lr_scheduler\": scheduler}\n",
    "\n",
    "\n",
    "model2 = LitNeuralNet2(input_size, hidden_size, num_classes)"
   ]
  },
  {
   "cell_type": "code",
   "execution_count": 7,
   "metadata": {},
   "outputs": [],
   "source": [
    "# Custom callback example\n",
    "class PrintCallback(Callback):\n",
    "    def on_train_start(self, trainer, pl_module):\n",
    "        print(\"Training is starting...\")\n",
    "\n",
    "    def on_train_end(self, trainer, pl_module):\n",
    "        print(\"Training is ending...\")"
   ]
  },
  {
   "cell_type": "code",
   "execution_count": 8,
   "metadata": {},
   "outputs": [
    {
     "name": "stderr",
     "output_type": "stream",
     "text": [
      "GPU available: True (cuda), used: True\n",
      "TPU available: False, using: 0 TPU cores\n",
      "HPU available: False, using: 0 HPUs\n",
      "c:\\Users\\jites\\anaconda3\\envs\\torchenv\\lib\\site-packages\\pytorch_lightning\\callbacks\\model_checkpoint.py:652: Checkpoint directory C:\\Users\\jites\\Desktop\\Project_folder\\Jupyter_practice\\pytorch_practice\\my_model_checkpoints exists and is not empty.\n",
      "LOCAL_RANK: 0 - CUDA_VISIBLE_DEVICES: [0]\n",
      "\n",
      "  | Name | Type   | Params | Mode \n",
      "----------------------------------------\n",
      "0 | l1   | Linear | 392 K  | train\n",
      "1 | relu | ReLU   | 0      | train\n",
      "2 | l2   | Linear | 5.0 K  | train\n",
      "----------------------------------------\n",
      "397 K     Trainable params\n",
      "0         Non-trainable params\n",
      "397 K     Total params\n",
      "1.590     Total estimated model params size (MB)\n"
     ]
    },
    {
     "data": {
      "application/vnd.jupyter.widget-view+json": {
       "model_id": "c4b828cc3b94413abe2e01c6c22b26aa",
       "version_major": 2,
       "version_minor": 0
      },
      "text/plain": [
       "Sanity Checking: |          | 0/? [00:00<?, ?it/s]"
      ]
     },
     "metadata": {},
     "output_type": "display_data"
    },
    {
     "name": "stdout",
     "output_type": "stream",
     "text": [
      "Training is starting...\n"
     ]
    },
    {
     "data": {
      "application/vnd.jupyter.widget-view+json": {
       "model_id": "b1734ff6d2b04a1888028da8c03fdd8f",
       "version_major": 2,
       "version_minor": 0
      },
      "text/plain": [
       "Training: |          | 0/? [00:00<?, ?it/s]"
      ]
     },
     "metadata": {},
     "output_type": "display_data"
    },
    {
     "data": {
      "application/vnd.jupyter.widget-view+json": {
       "model_id": "269c8e4263a64dda8255b45fe4403dbb",
       "version_major": 2,
       "version_minor": 0
      },
      "text/plain": [
       "Validation: |          | 0/? [00:00<?, ?it/s]"
      ]
     },
     "metadata": {},
     "output_type": "display_data"
    },
    {
     "name": "stderr",
     "output_type": "stream",
     "text": [
      "Metric avg_val_loss improved. New best score: 0.161\n"
     ]
    },
    {
     "data": {
      "application/vnd.jupyter.widget-view+json": {
       "model_id": "1ae8d2e22b074f1dac475889bde25278",
       "version_major": 2,
       "version_minor": 0
      },
      "text/plain": [
       "Validation: |          | 0/? [00:00<?, ?it/s]"
      ]
     },
     "metadata": {},
     "output_type": "display_data"
    },
    {
     "name": "stderr",
     "output_type": "stream",
     "text": [
      "Metric avg_val_loss improved by 0.058 >= min_delta = 0.0. New best score: 0.103\n",
      "`Trainer.fit` stopped: `max_epochs=2` reached.\n"
     ]
    },
    {
     "name": "stdout",
     "output_type": "stream",
     "text": [
      "Training is ending...\n"
     ]
    }
   ],
   "source": [
    "## Define callbacks\n",
    "early_stopping_callback = EarlyStopping(\n",
    "    monitor='avg_val_loss',\n",
    "    patience=3,\n",
    "    verbose=True,\n",
    "    mode='min'\n",
    ")\n",
    "\n",
    "## define model checkpoint\n",
    "checkpoint_callback = ModelCheckpoint(\n",
    "    monitor='avg_val_loss',\n",
    "    dirpath='my_model_checkpoints',\n",
    "    filename='mnist-{epoch:02d}-{avg_val_loss:.2f}',\n",
    "    save_top_k=3,\n",
    "    mode='min'\n",
    ")\n",
    "\n",
    "lr_monitor = LearningRateMonitor(logging_interval='epoch')\n",
    "\n",
    "print_callback = PrintCallback()\n",
    "\n",
    "## Initialize the Trainer with callbacks\n",
    "trainer = pl.Trainer(\n",
    "    max_epochs=num_epochs,\n",
    "    devices=1,\n",
    "    accelerator='gpu',\n",
    "    logger=True,\n",
    "    callbacks=[early_stopping_callback, checkpoint_callback, lr_monitor, print_callback]\n",
    ")\n",
    "\n",
    "## Start training\n",
    "trainer.fit(model2)"
   ]
  }
 ],
 "metadata": {
  "kernelspec": {
   "display_name": "torchenv",
   "language": "python",
   "name": "python3"
  },
  "language_info": {
   "codemirror_mode": {
    "name": "ipython",
    "version": 3
   },
   "file_extension": ".py",
   "mimetype": "text/x-python",
   "name": "python",
   "nbconvert_exporter": "python",
   "pygments_lexer": "ipython3",
   "version": "3.10.14"
  }
 },
 "nbformat": 4,
 "nbformat_minor": 2
}
