{
 "cells": [
  {
   "cell_type": "code",
   "execution_count": 1,
   "metadata": {},
   "outputs": [],
   "source": [
    "import torch\n",
    "import torch.nn as nn\n",
    "import torchvision\n",
    "from torchvision.transforms import transforms"
   ]
  },
  {
   "cell_type": "code",
   "execution_count": 2,
   "metadata": {},
   "outputs": [
    {
     "name": "stdout",
     "output_type": "stream",
     "text": [
      "cuda\n"
     ]
    }
   ],
   "source": [
    "device = torch.device('cuda' if torch.cuda.is_available() else 'cpu')\n",
    "print(device)"
   ]
  },
  {
   "cell_type": "code",
   "execution_count": 3,
   "metadata": {},
   "outputs": [],
   "source": [
    "## hyperparameter\n",
    "\n",
    "input_size = 784   ## because the size of images are ( 28 * 28 ) .. if we do linear layer then it will become (28 x 28 = 784 )\n",
    "hidden_size = 500\n",
    "num_classes = 10\n",
    "num_epochs = 10\n",
    "batch_size = 100\n",
    "learning_rate = 0.001"
   ]
  },
  {
   "cell_type": "code",
   "execution_count": 4,
   "metadata": {},
   "outputs": [],
   "source": [
    "training_dataset = torchvision.datasets.MNIST(root='./mnist_folder', \n",
    "                                           train=True, \n",
    "                                           transform= transforms.ToTensor(), \n",
    "                                           download=True)\n",
    "\n",
    "testing_dataset = torchvision.datasets.MNIST(root='./mnist_folder', \n",
    "                                          train=False, \n",
    "                                          transform= transforms.ToTensor(), \n",
    "                                          download=False)"
   ]
  },
  {
   "cell_type": "code",
   "execution_count": 5,
   "metadata": {},
   "outputs": [],
   "source": [
    "train_loader = torch.utils.data.DataLoader(dataset= training_dataset,\n",
    "                                           batch_size= batch_size,\n",
    "                                           shuffle= True)\n",
    "\n",
    "test_loader = torch.utils.data.DataLoader(dataset= testing_dataset,\n",
    "                                           batch_size= batch_size,\n",
    "                                           shuffle= False)"
   ]
  },
  {
   "cell_type": "code",
   "execution_count": 2,
   "metadata": {},
   "outputs": [],
   "source": [
    "# import matplotlib.pyplot as plt\n",
    "\n",
    "# examples = iter(test_loader)\n",
    "# example_data, example_targets = next(examples)\n",
    "\n",
    "# for i in range(6):\n",
    "#     plt.subplot(2,3,i+1)\n",
    "#     plt.imshow(example_data[i][0], cmap='gray')\n",
    "# plt.show()"
   ]
  },
  {
   "cell_type": "code",
   "execution_count": 7,
   "metadata": {},
   "outputs": [],
   "source": [
    "## Fully connected neural network with one hidden layer\n",
    "\n",
    "\n",
    "class NeuralNet(nn.Module):\n",
    "    def __init__(self, input_size, hidden_size, num_class):\n",
    "        super(NeuralNet, self).__init__()\n",
    "        self.input_size = input_size\n",
    "        self.l1 = nn.Linear(in_features = input_size, out_features = hidden_size)       ## linear layer take what is the input data and\n",
    "                                                                                        ## what will be the out put \n",
    "        self.relu = nn.ReLU()\n",
    "        self.l2 = nn.Linear(in_features = hidden_size, out_features = num_class)\n",
    "    \n",
    "    def forward(self, x):\n",
    "        out = self.l1(x)\n",
    "        out = self.relu(out)\n",
    "        out = self.l2(out)\n",
    "            ## no activation and no softmax at the end\n",
    "        return out\n",
    "\n",
    "model = NeuralNet(input_size= input_size, hidden_size= hidden_size, num_class= num_classes).to(device)"
   ]
  },
  {
   "cell_type": "code",
   "execution_count": 8,
   "metadata": {},
   "outputs": [],
   "source": [
    "## Loss and optimizer\n",
    "\n",
    "criterion = nn.CrossEntropyLoss()\n",
    "optimizer = torch.optim.Adam(params= model.parameters(), lr= learning_rate)"
   ]
  },
  {
   "cell_type": "code",
   "execution_count": 9,
   "metadata": {},
   "outputs": [
    {
     "name": "stdout",
     "output_type": "stream",
     "text": [
      "Epoch [1/10], Step [100/600], Loss: 0.3090\n",
      "Epoch [1/10], Step [200/600], Loss: 0.4456\n",
      "Epoch [1/10], Step [300/600], Loss: 0.2881\n",
      "Epoch [1/10], Step [400/600], Loss: 0.3643\n",
      "Epoch [1/10], Step [500/600], Loss: 0.0881\n",
      "Epoch [1/10], Step [600/600], Loss: 0.1473\n",
      "Epoch [2/10], Step [100/600], Loss: 0.1235\n",
      "Epoch [2/10], Step [200/600], Loss: 0.1690\n",
      "Epoch [2/10], Step [300/600], Loss: 0.1937\n",
      "Epoch [2/10], Step [400/600], Loss: 0.1187\n",
      "Epoch [2/10], Step [500/600], Loss: 0.0959\n",
      "Epoch [2/10], Step [600/600], Loss: 0.0360\n",
      "Epoch [3/10], Step [100/600], Loss: 0.0384\n",
      "Epoch [3/10], Step [200/600], Loss: 0.0976\n",
      "Epoch [3/10], Step [300/600], Loss: 0.0852\n",
      "Epoch [3/10], Step [400/600], Loss: 0.0122\n",
      "Epoch [3/10], Step [500/600], Loss: 0.0711\n",
      "Epoch [3/10], Step [600/600], Loss: 0.0512\n",
      "Epoch [4/10], Step [100/600], Loss: 0.0367\n",
      "Epoch [4/10], Step [200/600], Loss: 0.0811\n",
      "Epoch [4/10], Step [300/600], Loss: 0.0540\n",
      "Epoch [4/10], Step [400/600], Loss: 0.0132\n",
      "Epoch [4/10], Step [500/600], Loss: 0.0716\n",
      "Epoch [4/10], Step [600/600], Loss: 0.0306\n",
      "Epoch [5/10], Step [100/600], Loss: 0.0252\n",
      "Epoch [5/10], Step [200/600], Loss: 0.0201\n",
      "Epoch [5/10], Step [300/600], Loss: 0.0153\n",
      "Epoch [5/10], Step [400/600], Loss: 0.0093\n",
      "Epoch [5/10], Step [500/600], Loss: 0.0375\n",
      "Epoch [5/10], Step [600/600], Loss: 0.0962\n",
      "Epoch [6/10], Step [100/600], Loss: 0.0391\n",
      "Epoch [6/10], Step [200/600], Loss: 0.0320\n",
      "Epoch [6/10], Step [300/600], Loss: 0.0542\n",
      "Epoch [6/10], Step [400/600], Loss: 0.0371\n",
      "Epoch [6/10], Step [500/600], Loss: 0.0091\n",
      "Epoch [6/10], Step [600/600], Loss: 0.0341\n",
      "Epoch [7/10], Step [100/600], Loss: 0.0182\n",
      "Epoch [7/10], Step [200/600], Loss: 0.0183\n",
      "Epoch [7/10], Step [300/600], Loss: 0.0066\n",
      "Epoch [7/10], Step [400/600], Loss: 0.0079\n",
      "Epoch [7/10], Step [500/600], Loss: 0.0050\n",
      "Epoch [7/10], Step [600/600], Loss: 0.0194\n",
      "Epoch [8/10], Step [100/600], Loss: 0.0182\n",
      "Epoch [8/10], Step [200/600], Loss: 0.0025\n",
      "Epoch [8/10], Step [300/600], Loss: 0.0017\n",
      "Epoch [8/10], Step [400/600], Loss: 0.0332\n",
      "Epoch [8/10], Step [500/600], Loss: 0.0351\n",
      "Epoch [8/10], Step [600/600], Loss: 0.0120\n",
      "Epoch [9/10], Step [100/600], Loss: 0.0077\n",
      "Epoch [9/10], Step [200/600], Loss: 0.0059\n",
      "Epoch [9/10], Step [300/600], Loss: 0.0441\n",
      "Epoch [9/10], Step [400/600], Loss: 0.0210\n",
      "Epoch [9/10], Step [500/600], Loss: 0.0174\n",
      "Epoch [9/10], Step [600/600], Loss: 0.0251\n",
      "Epoch [10/10], Step [100/600], Loss: 0.0032\n",
      "Epoch [10/10], Step [200/600], Loss: 0.0026\n",
      "Epoch [10/10], Step [300/600], Loss: 0.0071\n",
      "Epoch [10/10], Step [400/600], Loss: 0.0179\n",
      "Epoch [10/10], Step [500/600], Loss: 0.0054\n",
      "Epoch [10/10], Step [600/600], Loss: 0.0044\n"
     ]
    }
   ],
   "source": [
    "## train the model\n",
    "n_total_steps = len(train_loader)\n",
    "for epoch in range(num_epochs):\n",
    "    for i, (image, label) in enumerate(train_loader):\n",
    "        ## original image size = [100, 1, 28, 28] because of ( 100 => total images , 1 => one color channel , ( 28*28 ) => pixel size)\n",
    "        ## you have resize the image as per the model input\n",
    "        ## [100, 784] because ( total 100 images are there and 784 is the pixel value after flatten )\n",
    "\n",
    "        image = image.reshape(-1, 28*28).to(device)\n",
    "        label = label.to(device)\n",
    "\n",
    "        ## forward pass\n",
    "        output = model(image)\n",
    "        loss = criterion(output, label)\n",
    "\n",
    "        ## backward and optimize\n",
    "        optimizer.zero_grad()\n",
    "        loss.backward()\n",
    "        optimizer.step()\n",
    "\n",
    "        if (i+1) % 100 == 0:\n",
    "            print(f'Epoch [{epoch+1}/{num_epochs}], Step [{i+1}/{n_total_steps}], Loss: {loss.item():.4f}')"
   ]
  },
  {
   "cell_type": "code",
   "execution_count": 10,
   "metadata": {},
   "outputs": [
    {
     "name": "stdout",
     "output_type": "stream",
     "text": [
      "Accuracy of the network on the 10000 test images: 98.08 %\n"
     ]
    }
   ],
   "source": [
    "## test the model\n",
    "\n",
    "with torch.no_grad():\n",
    "    n_correct = 0\n",
    "    n_sample = 0\n",
    "    for image, label in test_loader:\n",
    "        image = image.reshape(-1, 28*28).to(device)\n",
    "        label = label.to(device)\n",
    "        output = model(image)\n",
    "\n",
    "        ## prediction\n",
    "        _ , predicted = torch.max(output.data, 1)      ### max returns (value ,index)\n",
    "        n_sample += label.size(0)\n",
    "        n_correct += (predicted == label).sum().item()\n",
    "\n",
    "    acc = 100.0 * n_correct / n_sample\n",
    "    print(f'Accuracy of the network on the 10000 test images: {acc} %')\n"
   ]
  },
  {
   "cell_type": "markdown",
   "metadata": {},
   "source": [
    "## Activation Function"
   ]
  },
  {
   "cell_type": "code",
   "execution_count": null,
   "metadata": {},
   "outputs": [],
   "source": [
    "import torch\n",
    "import torch.nn as nn\n",
    "import torch.nn.functional as F\n",
    "\n",
    "\n",
    "## \n",
    "torch.relu()\n",
    "torch.sigmoid()\n",
    "torch.softmax()\n",
    "torch.tanh()\n",
    "\n",
    "\n",
    "nn.ReLU()\n",
    "nn.Softmax()\n",
    "nn.Sigmoid()\n",
    "nn.Tanh()\n",
    "nn.LeakyReLU()\n",
    "\n",
    "\n",
    "F.tanh()\n",
    "F.softmax()\n",
    "F.sigmoid()\n",
    "F.relu()\n",
    "F.leaky_relu()"
   ]
  }
 ],
 "metadata": {
  "kernelspec": {
   "display_name": "torchenv",
   "language": "python",
   "name": "python3"
  },
  "language_info": {
   "codemirror_mode": {
    "name": "ipython",
    "version": 3
   },
   "file_extension": ".py",
   "mimetype": "text/x-python",
   "name": "python",
   "nbconvert_exporter": "python",
   "pygments_lexer": "ipython3",
   "version": "3.10.14"
  }
 },
 "nbformat": 4,
 "nbformat_minor": 2
}
