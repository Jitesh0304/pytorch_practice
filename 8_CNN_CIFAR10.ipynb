{
 "cells": [
  {
   "cell_type": "code",
   "execution_count": 1,
   "metadata": {},
   "outputs": [],
   "source": [
    "import torch\n",
    "import torchvision\n",
    "import torch.nn as nn\n",
    "import torch.nn.functional as F\n",
    "from torchvision.transforms import transforms\n",
    "import matplotlib.pyplot as plt\n",
    "import numpy as np\n"
   ]
  },
  {
   "cell_type": "code",
   "execution_count": 2,
   "metadata": {},
   "outputs": [],
   "source": [
    "device = torch.device('cuda' if torch.cuda.is_available() else 'cpu')"
   ]
  },
  {
   "cell_type": "code",
   "execution_count": 3,
   "metadata": {},
   "outputs": [],
   "source": [
    "## hper parameter\n",
    "num_epochs = 3\n",
    "batch_size = 4\n",
    "learning_rate = 0.001"
   ]
  },
  {
   "cell_type": "code",
   "execution_count": 4,
   "metadata": {},
   "outputs": [],
   "source": [
    "## dataset has PILImage images of range [0, 1]. \n",
    "## We transform them to Tensors of normalized range [-1, 1]\n",
    "transform = transforms.Compose([transforms.ToTensor(), transforms.Normalize((0.5, 0.5, 0.5), (0.5, 0.5, 0.5))])"
   ]
  },
  {
   "cell_type": "code",
   "execution_count": 5,
   "metadata": {},
   "outputs": [
    {
     "name": "stdout",
     "output_type": "stream",
     "text": [
      "Files already downloaded and verified\n",
      "Files already downloaded and verified\n"
     ]
    }
   ],
   "source": [
    "## CIFAR10: 60000 32x32 color images in 10 classes, with 6000 images per class\n",
    "training_dataset = torchvision.datasets.CIFAR10(root='./cifar_folder', \n",
    "                                           train=True, \n",
    "                                           transform= transform, \n",
    "                                           download=True)\n",
    "\n",
    "testing_dataset = torchvision.datasets.CIFAR10(root='./cifar_folder', \n",
    "                                          train=False,\n",
    "                                          transform= transform, \n",
    "                                          download=True)"
   ]
  },
  {
   "cell_type": "code",
   "execution_count": 6,
   "metadata": {},
   "outputs": [],
   "source": [
    "train_loader = torch.utils.data.DataLoader(dataset= training_dataset,\n",
    "                                           batch_size= batch_size,\n",
    "                                           shuffle= True)\n",
    "\n",
    "test_loader = torch.utils.data.DataLoader(dataset= testing_dataset,\n",
    "                                           batch_size= batch_size,\n",
    "                                           shuffle= False)"
   ]
  },
  {
   "cell_type": "code",
   "execution_count": 7,
   "metadata": {},
   "outputs": [],
   "source": [
    "classes = ('plane', 'car', 'bird', 'cat',\n",
    "           'deer', 'dog', 'frog', 'horse', 'ship', 'truck')"
   ]
  },
  {
   "cell_type": "code",
   "execution_count": 8,
   "metadata": {},
   "outputs": [],
   "source": [
    "dataiter = iter(train_loader)\n",
    "image, label = next(dataiter)"
   ]
  },
  {
   "cell_type": "code",
   "execution_count": 9,
   "metadata": {},
   "outputs": [
    {
     "data": {
      "image/png": "[encoded data removed]",
      "text/plain": [
       "<Figure size 640x480 with 1 Axes>"
      ]
     },
     "metadata": {},
     "output_type": "display_data"
    }
   ],
   "source": [
    "def imshow(img):\n",
    "    img = img / 2 + 0.5  # unnormalize\n",
    "    npimg = img.numpy()\n",
    "    plt.imshow(np.transpose(npimg, (1, 2, 0)))\n",
    "    plt.show()\n",
    "\n",
    "imshow(torchvision.utils.make_grid(image))"
   ]
  },
  {
   "cell_type": "code",
   "execution_count": 10,
   "metadata": {},
   "outputs": [
    {
     "data": {
      "text/plain": [
       "torch.Size([4, 3, 32, 32])"
      ]
     },
     "execution_count": 10,
     "metadata": {},
     "output_type": "execute_result"
    }
   ],
   "source": [
    "image.shape         ## 4 => batch size .... 3 => color channel  ....  32*32 => pixel size"
   ]
  },
  {
   "cell_type": "code",
   "execution_count": 11,
   "metadata": {},
   "outputs": [],
   "source": [
    "class ConvNet(nn.Module):\n",
    "\n",
    "    def __init__(self):\n",
    "        super(ConvNet, self).__init__()\n",
    "\n",
    "        self.conv1 = nn.Conv2d(in_channels= 3, out_channels= 6, kernel_size= 5)\n",
    "        self.pool1 = nn.MaxPool2d(kernel_size= 2, stride= 2)                        ## (W − K + 2P) / S  =>     w =: input size in this case 32\n",
    "        self.conv2 = nn.Conv2d(in_channels= 6, out_channels= 16, kernel_size= 5)                            ##  k =: K is the Kernel size\n",
    "        self.fc1 = nn.Linear(16 * 5 * 5, 120)                                                               ##  p =: padding (0)  s =: stride (0)\n",
    "        self.fc2 = nn.Linear(120, 84)\n",
    "        self.fc3 = nn.Linear(84, 10)\n",
    "\n",
    "    # def forward(self, x):\n",
    "    #     # -> n, 3, 32, 32\n",
    "    #     x = self.pool1(F.relu(self.conv1(x)))           ## -> n, 6, 14, 14\n",
    "    #     x = self.pool1(F.relu(self.conv2(x)))           ## -> n, 16, 5, 5\n",
    "    #     x = x.view(-1, 16 * 5 * 5)                      ## -> n, 400\n",
    "    #     x = F.relu(self.fc1(x))                         ## -> n, 120\n",
    "    #     x = F.relu(self.fc2(x))                         ## -> n, 84\n",
    "    #     x = self.fc3(x)                                 ## -> n, 10\n",
    "    #     return x\n",
    "\n",
    "    def forward(self, x):\n",
    "        # -> n, 3, 32, 32\n",
    "\n",
    "        x_conv1 = self.conv1(x)\n",
    "        x_relu1 = torch.relu(x_conv1)\n",
    "        x_pool1 = self.pool1(x_relu1)\n",
    "\n",
    "        x_conv2 = self.conv2(x_pool1)\n",
    "        x_relu2 = torch.relu(x_conv2)\n",
    "        x_pool2 = self.pool1(x_relu2)\n",
    "\n",
    "        x_flatten = x_pool2.view(-1, 16 * 5 * 5)\n",
    "\n",
    "        x_fully_connected_1 = self.fc1(x_flatten)\n",
    "        x_relu3 = torch.relu(x_fully_connected_1)\n",
    "\n",
    "        x_fully_connected_2 = self.fc2(x_relu3)\n",
    "        x_relu4 = torch.relu(x_fully_connected_2)\n",
    "\n",
    "        x_fully_connected_3 = self.fc3(x_relu4)\n",
    "        \n",
    "        return x_fully_connected_3"
   ]
  },
  {
   "cell_type": "code",
   "execution_count": 12,
   "metadata": {},
   "outputs": [],
   "source": [
    "model = ConvNet().to(device)\n",
    "\n",
    "criterion = nn.CrossEntropyLoss()\n",
    "optimizer = torch.optim.SGD(model.parameters(), lr=learning_rate)"
   ]
  },
  {
   "cell_type": "code",
   "execution_count": 13,
   "metadata": {},
   "outputs": [
    {
     "name": "stdout",
     "output_type": "stream",
     "text": [
      "Epoch [1/3], Step [2000/12500], Loss: 2.3285\n",
      "Epoch [1/3], Step [4000/12500], Loss: 2.3090\n",
      "Epoch [1/3], Step [6000/12500], Loss: 2.2854\n",
      "Epoch [1/3], Step [8000/12500], Loss: 2.3126\n",
      "Epoch [1/3], Step [10000/12500], Loss: 2.1552\n",
      "Epoch [1/3], Step [12000/12500], Loss: 2.3150\n",
      "Epoch [2/3], Step [2000/12500], Loss: 2.0423\n",
      "Epoch [2/3], Step [4000/12500], Loss: 1.8411\n",
      "Epoch [2/3], Step [6000/12500], Loss: 1.8718\n",
      "Epoch [2/3], Step [8000/12500], Loss: 2.6604\n",
      "Epoch [2/3], Step [10000/12500], Loss: 1.8431\n",
      "Epoch [2/3], Step [12000/12500], Loss: 1.6320\n",
      "Epoch [3/3], Step [2000/12500], Loss: 1.7615\n",
      "Epoch [3/3], Step [4000/12500], Loss: 1.8745\n",
      "Epoch [3/3], Step [6000/12500], Loss: 1.5050\n",
      "Epoch [3/3], Step [8000/12500], Loss: 1.7377\n",
      "Epoch [3/3], Step [10000/12500], Loss: 1.2346\n",
      "Epoch [3/3], Step [12000/12500], Loss: 1.2409\n"
     ]
    }
   ],
   "source": [
    "n_total_steps = len(train_loader)\n",
    "\n",
    "for epoch in range(num_epochs):\n",
    "    for i, (images, labels) in enumerate(train_loader):\n",
    "        # origin shape: [4, 3, 32, 32] = 4, 3, 1024\n",
    "        # input_layer: 3 input channels, 6 output channels, 5 kernel size\n",
    "        images = images.to(device)\n",
    "        labels = labels.to(device)\n",
    "\n",
    "        # Forward pass\n",
    "        outputs = model(images)\n",
    "        loss = criterion(outputs, labels)\n",
    "\n",
    "        # Backward and optimize\n",
    "        optimizer.zero_grad()\n",
    "        loss.backward()\n",
    "        optimizer.step()\n",
    "\n",
    "        if (i+1) % 2000 == 0:\n",
    "            print (f'Epoch [{epoch+1}/{num_epochs}], Step [{i+1}/{n_total_steps}], Loss: {loss.item():.4f}')\n"
   ]
  },
  {
   "cell_type": "code",
   "execution_count": 14,
   "metadata": {},
   "outputs": [
    {
     "name": "stdout",
     "output_type": "stream",
     "text": [
      "Finished Training\n",
      "Accuracy of the network: 40.27 %\n",
      "Accuracy of plane: 49.8 %\n",
      "Accuracy of car: 49.2 %\n",
      "Accuracy of bird: 7.9 %\n",
      "Accuracy of cat: 11.2 %\n",
      "Accuracy of deer: 49.4 %\n",
      "Accuracy of dog: 49.7 %\n",
      "Accuracy of frog: 52.2 %\n",
      "Accuracy of horse: 46.6 %\n",
      "Accuracy of ship: 40.3 %\n",
      "Accuracy of truck: 46.4 %\n"
     ]
    }
   ],
   "source": [
    "\n",
    "print('Finished Training')\n",
    "PATH = './cnn.pth'\n",
    "torch.save(model.state_dict(), PATH)\n",
    "\n",
    "with torch.no_grad():\n",
    "    n_correct = 0\n",
    "    n_samples = 0\n",
    "    n_class_correct = [0 for i in range(10)]\n",
    "    n_class_samples = [0 for i in range(10)]\n",
    "    for images, labels in test_loader:\n",
    "        images = images.to(device)\n",
    "        labels = labels.to(device)\n",
    "        outputs = model(images)\n",
    "        # max returns (value ,index)\n",
    "        _, predicted = torch.max(outputs, 1)\n",
    "        n_samples += labels.size(0)\n",
    "        n_correct += (predicted == labels).sum().item()\n",
    "        \n",
    "        for i in range(batch_size):\n",
    "            label = labels[i]\n",
    "            pred = predicted[i]\n",
    "            if (label == pred):\n",
    "                n_class_correct[label] += 1\n",
    "            n_class_samples[label] += 1\n",
    "\n",
    "    acc = 100.0 * n_correct / n_samples\n",
    "    print(f'Accuracy of the network: {acc} %')\n",
    "\n",
    "    for i in range(10):\n",
    "        acc = 100.0 * n_class_correct[i] / n_class_samples[i]\n",
    "        print(f'Accuracy of {classes[i]}: {acc} %')\n"
   ]
  },
  {
   "cell_type": "code",
   "execution_count": null,
   "metadata": {},
   "outputs": [],
   "source": []
  },
  {
   "cell_type": "code",
   "execution_count": null,
   "metadata": {},
   "outputs": [],
   "source": []
  },
  {
   "cell_type": "code",
   "execution_count": null,
   "metadata": {},
   "outputs": [],
   "source": []
  },
  {
   "cell_type": "code",
   "execution_count": null,
   "metadata": {},
   "outputs": [],
   "source": []
  },
  {
   "cell_type": "code",
   "execution_count": null,
   "metadata": {},
   "outputs": [],
   "source": []
  },
  {
   "cell_type": "code",
   "execution_count": null,
   "metadata": {},
   "outputs": [],
   "source": []
  },
  {
   "cell_type": "code",
   "execution_count": null,
   "metadata": {},
   "outputs": [],
   "source": []
  }
 ],
 "metadata": {
  "kernelspec": {
   "display_name": "torchenv",
   "language": "python",
   "name": "python3"
  },
  "language_info": {
   "codemirror_mode": {
    "name": "ipython",
    "version": 3
   },
   "file_extension": ".py",
   "mimetype": "text/x-python",
   "name": "python",
   "nbconvert_exporter": "python",
   "pygments_lexer": "ipython3",
   "version": "3.10.14"
  }
 },
 "nbformat": 4,
 "nbformat_minor": 2
}
