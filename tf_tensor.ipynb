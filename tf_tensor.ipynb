{
 "cells": [
  {
   "cell_type": "code",
   "execution_count": 1,
   "metadata": {},
   "outputs": [],
   "source": [
    "import os\n",
    "os.environ['TF_CPP_MIN_LOG_LEVEL'] = '2'\n",
    "\n",
    "import tensorflow as tf\n",
    "\n",
    "\"\"\"\n",
    "Everything in TensorFlow is based on Tensor operations.\n",
    "Tensors are (kind of) like np.arrays.\n",
    "All tensors are immutable: you can never update the contents of a\n",
    "tensor, only create a new one.\n",
    "\n",
    " - nd-arrays (1d, 2d, or even 3d and higher)\n",
    " - GPU support\n",
    " - Computational graph / Track gradients / Backpropagation\n",
    " - Immutable!\n",
    "\"\"\""
   ]
  },
  {
   "cell_type": "markdown",
   "metadata": {},
   "source": [
    "### 1 create tensor"
   ]
  },
  {
   "cell_type": "code",
   "execution_count": 2,
   "metadata": {},
   "outputs": [
    {
     "name": "stdout",
     "output_type": "stream",
     "text": [
      "tf.Tensor(4, shape=(), dtype=int32)\n"
     ]
    }
   ],
   "source": [
    "# 1. create tensors\n",
    "# scalar, rank-0 tensor\n",
    "x = tf.constant(4)\n",
    "print(x)"
   ]
  },
  {
   "cell_type": "code",
   "execution_count": 3,
   "metadata": {},
   "outputs": [
    {
     "name": "stdout",
     "output_type": "stream",
     "text": [
      "tf.Tensor([[4.]], shape=(1, 1), dtype=float32)\n"
     ]
    }
   ],
   "source": [
    "x = tf.constant(4, shape=(1,1), dtype=tf.float32)\n",
    "print(x)"
   ]
  },
  {
   "cell_type": "code",
   "execution_count": 4,
   "metadata": {},
   "outputs": [
    {
     "name": "stdout",
     "output_type": "stream",
     "text": [
      "tf.Tensor([1 2 3], shape=(3,), dtype=int32)\n"
     ]
    }
   ],
   "source": [
    "# vector, rank-1\n",
    "x = tf.constant([1,2,3])\n",
    "print(x)"
   ]
  },
  {
   "cell_type": "code",
   "execution_count": 5,
   "metadata": {},
   "outputs": [
    {
     "name": "stdout",
     "output_type": "stream",
     "text": [
      "tf.Tensor(\n",
      "[[1 2 3]\n",
      " [4 5 6]], shape=(2, 3), dtype=int32)\n"
     ]
    }
   ],
   "source": [
    "# matrix, rank-2\n",
    "x = tf.constant([[1,2,3], [4,5,6]])\n",
    "print(x)"
   ]
  },
  {
   "cell_type": "code",
   "execution_count": null,
   "metadata": {},
   "outputs": [],
   "source": []
  },
  {
   "cell_type": "markdown",
   "metadata": {},
   "source": [
    "### 2 zeros, ones"
   ]
  },
  {
   "cell_type": "code",
   "execution_count": 6,
   "metadata": {},
   "outputs": [
    {
     "name": "stdout",
     "output_type": "stream",
     "text": [
      "tf.Tensor(\n",
      "[[1. 1. 1.]\n",
      " [1. 1. 1.]\n",
      " [1. 1. 1.]], shape=(3, 3), dtype=float32)\n",
      "tf.Tensor(\n",
      "[[0. 0. 0.]\n",
      " [0. 0. 0.]\n",
      " [0. 0. 0.]], shape=(3, 3), dtype=float32)\n"
     ]
    }
   ],
   "source": [
    "x = tf.ones((3,3))\n",
    "print(x)\n",
    "\n",
    "x = tf.zeros((3,3))\n",
    "print(x)"
   ]
  },
  {
   "cell_type": "code",
   "execution_count": 7,
   "metadata": {},
   "outputs": [
    {
     "name": "stdout",
     "output_type": "stream",
     "text": [
      "tf.Tensor(\n",
      "[[1. 0. 0.]\n",
      " [0. 1. 0.]\n",
      " [0. 0. 1.]], shape=(3, 3), dtype=float32)\n"
     ]
    }
   ],
   "source": [
    "x = tf.eye(3)\n",
    "print(x)"
   ]
  },
  {
   "cell_type": "code",
   "execution_count": null,
   "metadata": {},
   "outputs": [],
   "source": []
  },
  {
   "cell_type": "markdown",
   "metadata": {},
   "source": [
    "### 3 std deviation .. normal distribution"
   ]
  },
  {
   "cell_type": "code",
   "execution_count": 8,
   "metadata": {},
   "outputs": [
    {
     "name": "stdout",
     "output_type": "stream",
     "text": [
      "tf.Tensor(\n",
      "[[-0.23364508 -1.0022961   0.7207432 ]\n",
      " [-0.8189681  -2.3865094  -1.219961  ]\n",
      " [ 1.549602    1.8618294   0.48249286]], shape=(3, 3), dtype=float32)\n"
     ]
    }
   ],
   "source": [
    "x = tf.random.normal((3,3), mean=0, stddev=1)\n",
    "print(x)"
   ]
  },
  {
   "cell_type": "code",
   "execution_count": 9,
   "metadata": {},
   "outputs": [
    {
     "name": "stdout",
     "output_type": "stream",
     "text": [
      "tf.Tensor(\n",
      "[[0.71256196 0.76354194 0.75633585]\n",
      " [0.40745318 0.31332183 0.7819538 ]\n",
      " [0.963189   0.83648896 0.37974346]], shape=(3, 3), dtype=float32)\n"
     ]
    }
   ],
   "source": [
    "x = tf.random.uniform((3,3), minval=0, maxval=1)        ## values are between 0 and 1\n",
    "print(x)"
   ]
  },
  {
   "cell_type": "code",
   "execution_count": 10,
   "metadata": {},
   "outputs": [
    {
     "name": "stdout",
     "output_type": "stream",
     "text": [
      "tf.Tensor([0 1 2 3 4 5 6 7 8 9], shape=(10,), dtype=int32)\n"
     ]
    }
   ],
   "source": [
    "x = tf.range(10)\n",
    "print(x)"
   ]
  },
  {
   "cell_type": "code",
   "execution_count": 11,
   "metadata": {},
   "outputs": [
    {
     "name": "stdout",
     "output_type": "stream",
     "text": [
      "tf.Tensor([ 1.  4.  7. 10. 13.], shape=(5,), dtype=float32)\n"
     ]
    }
   ],
   "source": [
    "x = tf.range(start=1, limit=15, delta=3, dtype=tf.float32)\n",
    "print(x)"
   ]
  },
  {
   "cell_type": "code",
   "execution_count": 13,
   "metadata": {},
   "outputs": [
    {
     "name": "stdout",
     "output_type": "stream",
     "text": [
      "tf.Tensor([ 1.  4.  7. 10. 13.], shape=(5,), dtype=float16)\n"
     ]
    }
   ],
   "source": [
    "x = tf.range(start=1, limit=15, delta=3, dtype=tf.float32)\n",
    "x = tf.cast(x, dtype=tf.float16)\n",
    "print(x)"
   ]
  },
  {
   "cell_type": "code",
   "execution_count": null,
   "metadata": {},
   "outputs": [],
   "source": []
  },
  {
   "cell_type": "markdown",
   "metadata": {},
   "source": [
    "### 4 mathematical operations"
   ]
  },
  {
   "cell_type": "code",
   "execution_count": 14,
   "metadata": {},
   "outputs": [],
   "source": [
    "x = tf.constant([1,2,3])\n",
    "y = tf.constant([4,5,6])"
   ]
  },
  {
   "cell_type": "code",
   "execution_count": 15,
   "metadata": {},
   "outputs": [
    {
     "name": "stdout",
     "output_type": "stream",
     "text": [
      "tf.Tensor([5 7 9], shape=(3,), dtype=int32)\n"
     ]
    }
   ],
   "source": [
    "z = tf.add(x,y)\n",
    "# z = x + y\n",
    "print(z)"
   ]
  },
  {
   "cell_type": "code",
   "execution_count": 16,
   "metadata": {},
   "outputs": [
    {
     "name": "stdout",
     "output_type": "stream",
     "text": [
      "tf.Tensor([-3 -3 -3], shape=(3,), dtype=int32)\n"
     ]
    }
   ],
   "source": [
    "# z = tf.subtract(x,y)\n",
    "z = x - y\n",
    "print(z)"
   ]
  },
  {
   "cell_type": "code",
   "execution_count": 17,
   "metadata": {},
   "outputs": [
    {
     "name": "stdout",
     "output_type": "stream",
     "text": [
      "tf.Tensor([0.25 0.4  0.5 ], shape=(3,), dtype=float64)\n"
     ]
    }
   ],
   "source": [
    "z = tf.divide(x,y)\n",
    "# z = x / y\n",
    "print(z)"
   ]
  },
  {
   "cell_type": "code",
   "execution_count": 18,
   "metadata": {},
   "outputs": [
    {
     "name": "stdout",
     "output_type": "stream",
     "text": [
      "tf.Tensor([ 4 10 18], shape=(3,), dtype=int32)\n"
     ]
    }
   ],
   "source": [
    "z = tf.multiply(x,y)\n",
    "# z = x * y\n",
    "print(z)"
   ]
  },
  {
   "cell_type": "code",
   "execution_count": null,
   "metadata": {},
   "outputs": [],
   "source": []
  },
  {
   "cell_type": "markdown",
   "metadata": {},
   "source": [
    "### 5 tensordot"
   ]
  },
  {
   "cell_type": "code",
   "execution_count": 21,
   "metadata": {},
   "outputs": [
    {
     "name": "stdout",
     "output_type": "stream",
     "text": [
      "tf.Tensor([1 2 3], shape=(3,), dtype=int32)\n",
      "tf.Tensor([4 5 6], shape=(3,), dtype=int32)\n",
      "tf.Tensor(32, shape=(), dtype=int32)\n"
     ]
    }
   ],
   "source": [
    "x = tf.constant([1,2,3])\n",
    "y = tf.constant([4,5,6])\n",
    "\n",
    "print(x)\n",
    "print(y)\n",
    "z = tf.tensordot(x,y, axes=1)       ## it will do element wise multiplication and then summation\n",
    "print(z)                            ## [ (1*4) + (2*5) + (3*6) ]  => 32"
   ]
  },
  {
   "cell_type": "code",
   "execution_count": 29,
   "metadata": {},
   "outputs": [
    {
     "name": "stdout",
     "output_type": "stream",
     "text": [
      "tf.Tensor(\n",
      "[[15.475281  1.328076 83.7622  ]\n",
      " [75.37005  27.678991 34.7625  ]], shape=(2, 3), dtype=float32)\n",
      "\n",
      "tf.Tensor(\n",
      "[[20.479328 58.241833 59.625076]\n",
      " [85.806725 96.346695 73.575   ]], shape=(2, 3), dtype=float32)\n",
      "\n",
      "tf.Tensor(\n",
      "[[[[ 316.92334   901.3087    922.7148  ]\n",
      "   [1327.8832   1490.9922   1138.5938  ]]\n",
      "\n",
      "  [[  27.198105   77.34958    79.18663 ]\n",
      "   [ 113.957855  127.955734   97.71319 ]]\n",
      "\n",
      "  [[1715.3936   4878.464    4994.3276  ]\n",
      "   [7187.36     8070.211    6162.8037  ]]]\n",
      "\n",
      "\n",
      " [[[1543.528    4389.69     4493.945   ]\n",
      "   [6467.257    7261.6553   5545.351   ]]\n",
      "\n",
      "  [[ 566.84717  1612.0752   1650.3619  ]\n",
      "   [2375.0437   2666.7793   2036.4817  ]]\n",
      "\n",
      "  [[ 711.91266  2024.6317   2072.7168  ]\n",
      "   [2982.8564   3349.252    2557.651   ]]]], shape=(2, 3, 2, 3), dtype=float32)\n"
     ]
    }
   ],
   "source": [
    "x = tf.random.uniform(shape=(2,3), minval=1, maxval=100)\n",
    "y = tf.random.uniform(shape=(2,3), minval=1, maxval=100)\n",
    "print(x)\n",
    "print()\n",
    "print(y)\n",
    "print()\n",
    "z = tf.tensordot(x,y, axes=0)\n",
    "print(z)\n",
    "\"\"\"\n",
    "x =>  [[ x11, x12, x13 ]                    y =>  [[ y11, y12, y13 ]\n",
    "       [ x21, x22, x23 ]]                          [ y21, y22, y23 ]]\n",
    "\n",
    "x and y both are having shape of (2 row 3 columns)\n",
    "\n",
    "dot product of both matrices will be the shape of (2, 3, 2, 3)\n",
    "\n",
    "Example => \n",
    "a1 = [[ (x11 * y11), (x11 * y12), (x11 * y13) ]\n",
    "      [ (x11 * y21), (x11 * y22), (x11 * y23) ]]\n",
    "\n",
    "a2 = [[ (x12 * y11), (x12 * y12), (x12 * y13) ]\n",
    "      [ (x12 * y21), (x12 * y22), (x12 * y23) ]]\n",
    "\n",
    "a2 = [[ (x13 * y11), (x13 * y12), (x13 * y13) ]\n",
    "      [ (x13 * y21), (x13 * y22), (x13 * y23) ]]\n",
    "\n",
    "the above 3 result will create one metrix (1, 2, 3) of this shape ...\n",
    "like this it has 3 values in one row .. it maens (3, 2, 3) metrix\n",
    "there are 2 rows .. so the metrix shape will be (2, 3, 2, 3)\n",
    "\"\"\""
   ]
  },
  {
   "cell_type": "code",
   "execution_count": null,
   "metadata": {},
   "outputs": [],
   "source": []
  },
  {
   "cell_type": "markdown",
   "metadata": {},
   "source": [
    "### 6 reduce_sum , reduce_max , reduce_mean"
   ]
  },
  {
   "cell_type": "code",
   "execution_count": 45,
   "metadata": {},
   "outputs": [
    {
     "name": "stdout",
     "output_type": "stream",
     "text": [
      "tf.Tensor([1 2 3], shape=(3,), dtype=int32)\n",
      "tf.Tensor([4 5 6], shape=(3,), dtype=int32)\n",
      "tf.Tensor(7, shape=(), dtype=int32)\n"
     ]
    }
   ],
   "source": [
    "x = tf.constant([1,2,3])\n",
    "y = tf.constant([4,5,6])\n",
    "\n",
    "print(x)\n",
    "print(y)\n",
    "# z = tf.reduce_sum(x*y, axis=0)       ## it will do element wise multiplication and then summation\n",
    "# z = tf.reduce_max(x+y, axis=0)\n",
    "z = tf.reduce_mean(x+y, axis=0)\n",
    "print(z)  "
   ]
  },
  {
   "cell_type": "code",
   "execution_count": 35,
   "metadata": {},
   "outputs": [
    {
     "name": "stdout",
     "output_type": "stream",
     "text": [
      "tf.Tensor([ 1  8 27], shape=(3,), dtype=int32)\n"
     ]
    }
   ],
   "source": [
    "x = tf.constant([1,2,3])\n",
    "# elementwise exponentiate\n",
    "z = x ** 3\n",
    "print(z)"
   ]
  },
  {
   "cell_type": "code",
   "execution_count": null,
   "metadata": {},
   "outputs": [],
   "source": []
  },
  {
   "cell_type": "markdown",
   "metadata": {},
   "source": [
    "### 7 matrix multiplication\n",
    "matrix multiplication (shapes must match: number of columns A = number of rows B)"
   ]
  },
  {
   "cell_type": "code",
   "execution_count": 47,
   "metadata": {},
   "outputs": [
    {
     "name": "stdout",
     "output_type": "stream",
     "text": [
      "tf.Tensor(\n",
      "[[ 2.3663712 -3.5711892  1.4013865 -0.2188822]\n",
      " [ 1.7917428 -3.320992   3.9433231 -0.9963043]], shape=(2, 4), dtype=float32)\n"
     ]
    }
   ],
   "source": [
    "x = tf.random.normal((2,3))\n",
    "y = tf.random.normal((3,4))\n",
    "\n",
    "z = tf.matmul(x,y)\n",
    "    ## or\n",
    "# z = x @ y\n",
    "\n",
    "print(z)"
   ]
  },
  {
   "cell_type": "code",
   "execution_count": null,
   "metadata": {},
   "outputs": [],
   "source": []
  },
  {
   "cell_type": "markdown",
   "metadata": {},
   "source": [
    "### 8 indexing, slicing"
   ]
  },
  {
   "cell_type": "code",
   "execution_count": 48,
   "metadata": {},
   "outputs": [
    {
     "name": "stdout",
     "output_type": "stream",
     "text": [
      "tf.Tensor([1 2 3 4], shape=(4,), dtype=int32)\n",
      "tf.Tensor([1 5], shape=(2,), dtype=int32)\n",
      "tf.Tensor([5 6 7 8], shape=(4,), dtype=int32)\n",
      "tf.Tensor(6, shape=(), dtype=int32)\n"
     ]
    }
   ],
   "source": [
    "x = tf.constant([[1,2,3,4],[5,6,7,8]])\n",
    "print(x[0])\n",
    "print(x[:, 0]) # all rows, column 0\n",
    "print(x[1, :]) # row 1, all columns\n",
    "print(x[1,1]) # element at 1, 1"
   ]
  },
  {
   "cell_type": "code",
   "execution_count": 60,
   "metadata": {},
   "outputs": [
    {
     "name": "stdout",
     "output_type": "stream",
     "text": [
      "tf.Tensor([1 4 6], shape=(3,), dtype=int32)\n"
     ]
    }
   ],
   "source": [
    "x = tf.constant([1,2,3,4,5,6,7,8,9])\n",
    "\n",
    "# print(x[::-1])      ## reverse order of the rows\n",
    "# print(x[1:3])\n",
    "\n",
    "## specific indexes values\n",
    "list_of_indexes = tf.constant([0, 3, 5])\n",
    "print(tf.gather(x, indices= [0, 3, 5]))\n",
    "# print(tf.gather(x, indices= list_of_indexes))"
   ]
  },
  {
   "cell_type": "code",
   "execution_count": 65,
   "metadata": {},
   "outputs": [
    {
     "name": "stdout",
     "output_type": "stream",
     "text": [
      "tf.Tensor(\n",
      "[[60.59735  31.790888 97.06744  32.855957]\n",
      " [46.455185 60.288548 95.49846   4.691118]\n",
      " [69.06895  42.845722 50.542732 29.319006]\n",
      " [34.29755  19.225727 36.389027 12.523647]], shape=(4, 4), dtype=float32)\n",
      "\n",
      "tf.Tensor(\n",
      "[[46.455185 60.288548 95.49846   4.691118]\n",
      " [69.06895  42.845722 50.542732 29.319006]], shape=(2, 4), dtype=float32)\n"
     ]
    }
   ],
   "source": [
    "x = tf.random.uniform(shape=(4,4), minval=1, maxval=100)\n",
    "print(x)\n",
    "print()\n",
    "# print(x[::-1])      ## reverse order of the rows\n",
    "# print(x[1:3, :])"
   ]
  },
  {
   "cell_type": "code",
   "execution_count": null,
   "metadata": {},
   "outputs": [],
   "source": []
  },
  {
   "cell_type": "markdown",
   "metadata": {},
   "source": [
    "### 9 reshape"
   ]
  },
  {
   "cell_type": "code",
   "execution_count": 50,
   "metadata": {},
   "outputs": [
    {
     "name": "stdout",
     "output_type": "stream",
     "text": [
      "(2, 3)\n",
      "tf.Tensor(\n",
      "[[ 1.1189082   0.5278398 ]\n",
      " [-1.5588489   0.75679934]\n",
      " [-1.3474648  -0.22449367]], shape=(3, 2), dtype=float32)\n"
     ]
    }
   ],
   "source": [
    "x = tf.random.normal((2,3))\n",
    "print(x.shape)\n",
    "x = tf.reshape(x, (3,2))\n",
    "print(x)"
   ]
  },
  {
   "cell_type": "code",
   "execution_count": 51,
   "metadata": {},
   "outputs": [
    {
     "name": "stdout",
     "output_type": "stream",
     "text": [
      "tf.Tensor(\n",
      "[[ 1.1189082   0.5278398 ]\n",
      " [-1.5588489   0.75679934]\n",
      " [-1.3474648  -0.22449367]], shape=(3, 2), dtype=float32)\n"
     ]
    }
   ],
   "source": [
    "x = tf.reshape(x, (-1,2))\n",
    "print(x)"
   ]
  },
  {
   "cell_type": "code",
   "execution_count": 52,
   "metadata": {},
   "outputs": [
    {
     "name": "stdout",
     "output_type": "stream",
     "text": [
      "tf.Tensor([ 1.1189082   0.5278398  -1.5588489   0.75679934 -1.3474648  -0.22449367], shape=(6,), dtype=float32)\n"
     ]
    }
   ],
   "source": [
    "x = tf.reshape(x, (6))\n",
    "print(x)"
   ]
  },
  {
   "cell_type": "code",
   "execution_count": null,
   "metadata": {},
   "outputs": [],
   "source": []
  },
  {
   "cell_type": "markdown",
   "metadata": {},
   "source": [
    "### 10 transpose"
   ]
  },
  {
   "cell_type": "code",
   "execution_count": 70,
   "metadata": {},
   "outputs": [
    {
     "name": "stdout",
     "output_type": "stream",
     "text": [
      "tf.Tensor(\n",
      "[[ 5.92245   22.345451  36.214386  81.14195  ]\n",
      " [77.403366  43.368362  67.66347   45.653587 ]\n",
      " [ 5.3935204 57.316578  27.601301   3.370151 ]\n",
      " [53.748318  52.02648    3.3957963 81.215614 ]], shape=(4, 4), dtype=float32)\n",
      "\n",
      "tf.Tensor(\n",
      "[[ 5.92245   77.403366   5.3935204 53.748318 ]\n",
      " [22.345451  43.368362  57.316578  52.02648  ]\n",
      " [36.214386  67.66347   27.601301   3.3957963]\n",
      " [81.14195   45.653587   3.370151  81.215614 ]], shape=(4, 4), dtype=float32)\n",
      "tf.Tensor(\n",
      "[[ 5.92245   22.345451  36.214386  81.14195  ]\n",
      " [77.403366  43.368362  67.66347   45.653587 ]\n",
      " [ 5.3935204 57.316578  27.601301   3.370151 ]\n",
      " [53.748318  52.02648    3.3957963 81.215614 ]], shape=(4, 4), dtype=float32)\n"
     ]
    }
   ],
   "source": [
    "x = tf.random.uniform(shape=(4,4), minval=1, maxval=100)\n",
    "print(x)\n",
    "print()\n",
    "print(tf.transpose(x, perm=[1,0]))          ## it will convert row to columns and column to row\n",
    "\"\"\"\n",
    "if the metrix shape is (3, 4)  .. and you will do transpose (0,1)\n",
    "it means you wnat to swap the shape number ( 3,4 ) to ( 4,3 )\n",
    "\"\"\""
   ]
  },
  {
   "cell_type": "code",
   "execution_count": 74,
   "metadata": {},
   "outputs": [
    {
     "name": "stdout",
     "output_type": "stream",
     "text": [
      "tf.Tensor(\n",
      "[[[36.09559    1.8213997 28.157858  81.84591  ]\n",
      "  [31.362295  58.8386    68.57423   47.697845 ]\n",
      "  [88.42637   43.03055   66.372696  78.609764 ]\n",
      "  [71.64769   43.65539    5.654315  42.290417 ]\n",
      "  [55.471344  41.993793  63.49531   13.460185 ]]\n",
      "\n",
      " [[80.150024  78.15693    4.6433916 85.59229  ]\n",
      "  [88.83932   31.578775  28.680048  89.34331  ]\n",
      "  [34.975086  56.58408   64.980515  78.35124  ]\n",
      "  [41.07825   97.173744  15.388102  70.12429  ]\n",
      "  [70.03381   71.39263   54.687664  90.60505  ]]], shape=(2, 5, 4), dtype=float32)\n",
      "\n",
      "tf.Tensor(\n",
      "[[[36.09559   31.362295  88.42637   71.64769   55.471344 ]\n",
      "  [80.150024  88.83932   34.975086  41.07825   70.03381  ]]\n",
      "\n",
      " [[ 1.8213997 58.8386    43.03055   43.65539   41.993793 ]\n",
      "  [78.15693   31.578775  56.58408   97.173744  71.39263  ]]\n",
      "\n",
      " [[28.157858  68.57423   66.372696   5.654315  63.49531  ]\n",
      "  [ 4.6433916 28.680048  64.980515  15.388102  54.687664 ]]\n",
      "\n",
      " [[81.84591   47.697845  78.609764  42.290417  13.460185 ]\n",
      "  [85.59229   89.34331   78.35124   70.12429   90.60505  ]]], shape=(4, 2, 5), dtype=float32)\n"
     ]
    }
   ],
   "source": [
    "x = tf.random.uniform(shape=(2,5,4), minval=1, maxval=100)\n",
    "print(x)\n",
    "print()\n",
    "print(tf.transpose(x, perm=[2,0,1]))          ## it will convert row to columns and column to row\n",
    "\n",
    "\"\"\"\n",
    "if the metrix shape is (2,5,4)  .. and you will do transpose (2,0,1)\n",
    "it means you wnat to swap the shape number ( 2,5,4 ) to ( 4,2,5 )\n",
    "\n",
    "earlier it was the combination of two (5,4) matrixs ...\n",
    "after transpose it has become combination of four (2,5) matrixs\n",
    "\"\"\""
   ]
  },
  {
   "cell_type": "code",
   "execution_count": null,
   "metadata": {},
   "outputs": [],
   "source": []
  },
  {
   "cell_type": "markdown",
   "metadata": {},
   "source": [
    "### 11 numpy to tensor"
   ]
  },
  {
   "cell_type": "code",
   "execution_count": 53,
   "metadata": {},
   "outputs": [
    {
     "name": "stdout",
     "output_type": "stream",
     "text": [
      "<class 'numpy.ndarray'>\n"
     ]
    }
   ],
   "source": [
    "x = x.numpy()\n",
    "print(type(x))"
   ]
  },
  {
   "cell_type": "code",
   "execution_count": 54,
   "metadata": {},
   "outputs": [
    {
     "name": "stdout",
     "output_type": "stream",
     "text": [
      "<class 'tensorflow.python.framework.ops.EagerTensor'>\n"
     ]
    }
   ],
   "source": [
    "x = tf.convert_to_tensor(x)\n",
    "print(type(x))\n",
    "# -> eager tensor = evaluates operations immediately\n",
    "# without building graphs"
   ]
  },
  {
   "cell_type": "code",
   "execution_count": null,
   "metadata": {},
   "outputs": [],
   "source": []
  },
  {
   "cell_type": "markdown",
   "metadata": {},
   "source": [
    "### 12 string tensor"
   ]
  },
  {
   "cell_type": "code",
   "execution_count": 55,
   "metadata": {},
   "outputs": [
    {
     "name": "stdout",
     "output_type": "stream",
     "text": [
      "tf.Tensor(b'alpha', shape=(), dtype=string)\n",
      "tf.Tensor([b'alpha' b'beta' b'gamma'], shape=(3,), dtype=string)\n",
      "<tf.Variable 'Variable:0' shape=(1, 3) dtype=float32, numpy=array([[1., 2., 3.]], dtype=float32)>\n",
      "<class 'tensorflow.python.ops.resource_variable_ops.ResourceVariable'>\n"
     ]
    }
   ],
   "source": [
    "## string tensor\n",
    "x = tf.constant(\"alpha\")\n",
    "print(x)\n",
    "\n",
    "x = tf.constant([\"alpha\", \"beta\", \"gamma\"])\n",
    "print(x)"
   ]
  },
  {
   "cell_type": "code",
   "execution_count": null,
   "metadata": {},
   "outputs": [],
   "source": []
  },
  {
   "cell_type": "markdown",
   "metadata": {},
   "source": [
    "### 13 variable"
   ]
  },
  {
   "cell_type": "code",
   "execution_count": 56,
   "metadata": {},
   "outputs": [
    {
     "name": "stdout",
     "output_type": "stream",
     "text": [
      "<tf.Variable 'Variable:0' shape=(1, 3) dtype=float32, numpy=array([[1., 2., 3.]], dtype=float32)>\n",
      "<class 'tensorflow.python.ops.resource_variable_ops.ResourceVariable'>\n"
     ]
    }
   ],
   "source": [
    "# Variable\n",
    "# A tf.Variable represents a tensor whose value can be\n",
    "# changed by running ops on it\n",
    "# Used to represent shared, persistent state your program manipulates\n",
    "# Higher level libraries like tf.keras use tf.Variable to store model parameters.\n",
    "b = tf.Variable([[1.0, 2.0, 3.0]])\n",
    "print(b)\n",
    "print(type(b))"
   ]
  },
  {
   "cell_type": "code",
   "execution_count": null,
   "metadata": {},
   "outputs": [],
   "source": [
    "import tensorflow as tf\n",
    "from tensorflow.keras import layers\n",
    "\n",
    "class ScaledDotProductAttention(layers.Layer):\n",
    "    def __init__(self):\n",
    "        super(ScaledDotProductAttention, self).__init__()\n",
    "\n",
    "    def call(self, queries, keys, values, mask):\n",
    "        # Scaled dot product attention\n",
    "        d_k = tf.cast(tf.shape(keys)[-1], tf.float32)\n",
    "        scores = tf.matmul(queries, keys, transpose_b=True) / tf.sqrt(d_k)\n",
    "\n",
    "        if mask is not None:\n",
    "            scores += (mask * -1e9)\n",
    "\n",
    "        attention_weights = tf.nn.softmax(scores, axis=-1)\n",
    "        output = tf.matmul(attention_weights, values)\n",
    "        return output, attention_weights\n",
    "\n",
    "class MultiHeadAttention(layers.Layer):\n",
    "    def __init__(self, embed_size, num_heads):\n",
    "        super(MultiHeadAttention, self).__init__()\n",
    "        assert embed_size % num_heads == 0, \"Embedding size must be divisible by num_heads\"\n",
    "\n",
    "        self.num_heads = num_heads\n",
    "        self.head_dim = embed_size // num_heads\n",
    "\n",
    "        self.query_dense = layers.Dense(embed_size)\n",
    "        self.key_dense = layers.Dense(embed_size)\n",
    "        self.value_dense = layers.Dense(embed_size)\n",
    "        self.final_dense = layers.Dense(embed_size)\n",
    "\n",
    "    def split_heads(self, x, batch_size):\n",
    "        # Split the last dimension into (num_heads, head_dim)\n",
    "        x = tf.reshape(x, (batch_size, -1, self.num_heads, self.head_dim))\n",
    "        return tf.transpose(x, perm=[0, 2, 1, 3])\n",
    "\n",
    "    def call(self, queries, keys, values, mask):\n",
    "        batch_size = tf.shape(queries)[0]\n",
    "\n",
    "        queries = self.split_heads(self.query_dense(queries), batch_size)\n",
    "        keys = self.split_heads(self.key_dense(keys), batch_size)\n",
    "        values = self.split_heads(self.value_dense(values), batch_size)\n",
    "\n",
    "        attention_output, attention_weights = ScaledDotProductAttention()(queries, keys, values, mask)\n",
    "        attention_output = tf.transpose(attention_output, perm=[0, 2, 1, 3])\n",
    "\n",
    "        concat_attention = tf.reshape(attention_output, (batch_size, -1, self.num_heads * self.head_dim))\n",
    "        output = self.final_dense(concat_attention)\n",
    "\n",
    "        return output, attention_weights\n",
    "\n",
    "class PositionWiseFeedForward(layers.Layer):\n",
    "    def __init__(self, embed_size, forward_expansion):\n",
    "        super(PositionWiseFeedForward, self).__init__()\n",
    "        self.fc1 = layers.Dense(forward_expansion * embed_size, activation='relu')\n",
    "        self.fc2 = layers.Dense(embed_size)\n",
    "\n",
    "    def call(self, x):\n",
    "        return self.fc2(self.fc1(x))\n",
    "\n",
    "class EncoderLayer(layers.Layer):\n",
    "    def __init__(self, embed_size, num_heads, forward_expansion, dropout):\n",
    "        super(EncoderLayer, self).__init__()\n",
    "        self.mha = MultiHeadAttention(embed_size, num_heads)\n",
    "        self.ffn = PositionWiseFeedForward(embed_size, forward_expansion)\n",
    "\n",
    "        self.layernorm1 = layers.LayerNormalization(epsilon=1e-6)\n",
    "        self.layernorm2 = layers.LayerNormalization(epsilon=1e-6)\n",
    "        self.dropout1 = layers.Dropout(dropout)\n",
    "        self.dropout2 = layers.Dropout(dropout)\n",
    "\n",
    "    def call(self, x, mask):\n",
    "        attn_output, _ = self.mha(x, x, x, mask)\n",
    "        out1 = self.layernorm1(x + self.dropout1(attn_output))\n",
    "        ffn_output = self.ffn(out1)\n",
    "        out2 = self.layernorm2(out1 + self.dropout2(ffn_output))\n",
    "        return out2\n",
    "\n",
    "class DecoderLayer(layers.Layer):\n",
    "    def __init__(self, embed_size, num_heads, forward_expansion, dropout):\n",
    "        super(DecoderLayer, self).__init__()\n",
    "        self.mha1 = MultiHeadAttention(embed_size, num_heads)\n",
    "        self.mha2 = MultiHeadAttention(embed_size, num_heads)\n",
    "        self.ffn = PositionWiseFeedForward(embed_size, forward_expansion)\n",
    "\n",
    "        self.layernorm1 = layers.LayerNormalization(epsilon=1e-6)\n",
    "        self.layernorm2 = layers.LayerNormalization(epsilon=1e-6)\n",
    "        self.layernorm3 = layers.LayerNormalization(epsilon=1e-6)\n",
    "        self.dropout1 = layers.Dropout(dropout)\n",
    "        self.dropout2 = layers.Dropout(dropout)\n",
    "        self.dropout3 = layers.Dropout(dropout)\n",
    "\n",
    "    def call(self, x, enc_output, src_mask, trg_mask):\n",
    "        attn1, _ = self.mha1(x, x, x, trg_mask)\n",
    "        out1 = self.layernorm1(x + self.dropout1(attn1))\n",
    "\n",
    "        attn2, _ = self.mha2(out1, enc_output, enc_output, src_mask)\n",
    "        out2 = self.layernorm2(out1 + self.dropout2(attn2))\n",
    "\n",
    "        ffn_output = self.ffn(out2)\n",
    "        out3 = self.layernorm3(out2 + self.dropout3(ffn_output))\n",
    "        return out3\n",
    "\n",
    "class Encoder(layers.Layer):\n",
    "    def __init__(self, src_vocab_size, embed_size, num_layers, num_heads, forward_expansion, dropout, max_length):\n",
    "        super(Encoder, self).__init__()\n",
    "        self.embed_size = embed_size\n",
    "        self.embedding = layers.Embedding(src_vocab_size, embed_size)\n",
    "        self.pos_encoding = self.positional_encoding(max_length, embed_size)\n",
    "        self.layers = [EncoderLayer(embed_size, num_heads, forward_expansion, dropout) for _ in range(num_layers)]\n",
    "        self.dropout = layers.Dropout(dropout)\n",
    "\n",
    "    def positional_encoding(self, max_length, embed_size):\n",
    "        pos = tf.range(max_length)[:, tf.newaxis]\n",
    "        i = tf.range(embed_size)[tf.newaxis, :]\n",
    "        angle_rates = 1 / tf.pow(10000, (2 * (i // 2)) / tf.cast(embed_size, tf.float32))\n",
    "        angle_rads = pos * angle_rates\n",
    "\n",
    "        # Apply sin to even indices, cos to odd indices\n",
    "        sines = tf.sin(angle_rads[:, 0::2])\n",
    "        cosines = tf.cos(angle_rads[:, 1::2])\n",
    "\n",
    "        pos_encoding = tf.concat([sines, cosines], axis=-1)\n",
    "        pos_encoding = pos_encoding[tf.newaxis, ...]\n",
    "        return tf.cast(pos_encoding, dtype=tf.float32)\n",
    "\n",
    "    def call(self, x, mask):\n",
    "        seq_length = tf.shape(x)[1]\n",
    "        x = self.embedding(x) * tf.math.sqrt(tf.cast(self.embed_size, tf.float32))\n",
    "        x += self.pos_encoding[:, :seq_length, :]\n",
    "        x = self.dropout(x)\n",
    "\n",
    "        for layer in self.layers:\n",
    "            x = layer(x, mask)\n",
    "\n",
    "        return x\n",
    "\n",
    "class Decoder(layers.Layer):\n",
    "    def __init__(self, trg_vocab_size, embed_size, num_layers, num_heads, forward_expansion, dropout, max_length):\n",
    "        super(Decoder, self).__init__()\n",
    "        self.embed_size = embed_size\n",
    "        self.embedding = layers.Embedding(trg_vocab_size, embed_size)\n",
    "        self.pos_encoding = self.positional_encoding(max_length, embed_size)\n",
    "        self.layers = [DecoderLayer(embed_size, num_heads, forward_expansion, dropout) for _ in range(num_layers)]\n",
    "        self.fc_out = layers.Dense(trg_vocab_size)\n",
    "        self.dropout = layers.Dropout(dropout)\n",
    "\n",
    "    def positional_encoding(self, max_length, embed_size):\n",
    "        return Encoder.positional_encoding(self, max_length, embed_size)\n",
    "\n",
    "    def call(self, x, enc_output, src_mask, trg_mask):\n",
    "        seq_length = tf.shape(x)[1]\n",
    "        x = self.embedding(x) * tf.math.sqrt(tf.cast(self.embed_size, tf.float32))\n",
    "        x += self.pos_encoding[:, :seq_length, :]\n",
    "        x = self.dropout(x)\n",
    "\n",
    "        for layer in self.layers:\n",
    "            x = layer(x, enc_output, src_mask, trg_mask)\n",
    "\n",
    "        return self.fc_out(x)\n",
    "\n",
    "class Transformer(keras.Model):\n",
    "    def __init__(self, src_vocab_size, trg_vocab_size, src_pad_idx, trg_pad_idx, embed_size=512, num_layers=6, \n",
    "                 num_heads=8, forward_expansion=4, dropout=0.1, max_length=100):\n",
    "        super(Transformer, self).__init__()\n",
    "        self.encoder = Encoder(src_vocab_size, embed_size, num_layers, num_heads, forward_expansion, dropout, max_length)\n",
    "        self.decoder = Decoder(trg_vocab_size, embed_size, num_layers, num_heads, forward_expansion, dropout, max_length)\n",
    "        self.src_pad_idx = src_pad_idx\n",
    "        self.trg_pad_idx = trg_pad_idx\n",
    "\n",
    "    def make_src_mask(self, src):\n",
    "        mask = tf.cast(tf.math.not_equal(src, self.src_pad_idx), dtype=tf.float32)\n",
    "        return mask[:, tf.newaxis, tf.newaxis, :]  # (batch_size, 1, 1, src_len)\n",
    "\n",
    "    def make_trg_mask(self, trg):\n",
    "        seq_len = tf.shape(trg)[1]\n",
    "        trg_mask = tf.linalg.band_part(tf.ones\n"
   ]
  }
 ],
 "metadata": {
  "kernelspec": {
   "display_name": "torchenv",
   "language": "python",
   "name": "python3"
  },
  "language_info": {
   "codemirror_mode": {
    "name": "ipython",
    "version": 3
   },
   "file_extension": ".py",
   "mimetype": "text/x-python",
   "name": "python",
   "nbconvert_exporter": "python",
   "pygments_lexer": "ipython3",
   "version": "3.10.14"
  }
 },
 "nbformat": 4,
 "nbformat_minor": 2
}
